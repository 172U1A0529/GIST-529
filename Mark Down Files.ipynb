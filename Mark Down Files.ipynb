{
 "cells": [
  {
   "cell_type": "markdown",
   "metadata": {},
   "source": [
    "# Title\n",
    "## Subtitle\n",
    "### Heading\n",
    "#### Sub Heading\n"
   ]
  },
  {
   "cell_type": "markdown",
   "metadata": {},
   "source": [
    "- Outdoor Games\n",
    "    1. Cricket\n",
    "    2. Volley Ball\n",
    "    3. Shuttle\n",
    "    4. hockey\n",
    "- Indoor Games\n",
    "    1. Chess\n",
    "    2. Master Minds\n",
    "    3. Video Games\n",
    "    \n",
    "    \n",
    "    "
   ]
  },
  {
   "cell_type": "markdown",
   "metadata": {},
   "source": [
    "#### HORIZONTAL LINES\n",
    "***\n",
    "1.GIT\n",
    "2.PYTHON\n",
    "3.JAVA\n",
    "4.C\n",
    "***"
   ]
  },
  {
   "cell_type": "markdown",
   "metadata": {},
   "source": []
  },
  {
   "cell_type": "markdown",
   "metadata": {},
   "source": [
    "#### ITALIC\n",
    "*ITALIC*\n",
    "**BOLD**\n",
    "THIS is *italic* and **bold** Statement"
   ]
  },
  {
   "cell_type": "markdown",
   "metadata": {},
   "source": [
    "#### Add HyperLinks\n",
    "- [GOOGLE](https://www.google.com)\n",
    "-[FaceBOOk](https://www.facebook.com)\n",
    "\n"
   ]
  },
  {
   "cell_type": "markdown",
   "metadata": {},
   "source": [
    "#### gETTING IMAGES\n",
    "- ![image](peacock.jpg)\n",
    "- ![image](https://www.google.com/url?sa=i&url=https%3A%2F%2Fwww.pinterest.com%2Fpin%2F143130094388363480%2F&psig=AOvVaw0_6y0jJ2RTnqCWEFzzGUpW&ust=1616568729909000&source=images&cd=vfe&ved=0CAIQjRxqFwoTCMDVhfvpxe8CFQAAAAAdAAAAABAD)\n"
   ]
  },
  {
   "cell_type": "markdown",
   "metadata": {},
   "source": [
    "### Highlighted perticular lines in markdown\n",
    "- here Iam Writing Python Program\n",
    "- Markdow is used for writing digital documentation\n",
    "```python\n",
    "a=int(input())\n",
    "if a%2==0:\n",
    "    print(\"Even\")\n",
    "```\n",
    "this Symbol is used for Highlighting \n",
    "\n",
    "\n"
   ]
  },
  {
   "cell_type": "markdown",
   "metadata": {},
   "source": [
    "### Highlighted perticular lines in markdown\n",
    "- here Iam Writing Python Program\n",
    "- Markdow is used for writing digital documentation\n",
    "`python\n",
    "a=int(input())\n",
    "if a%2==0:\n",
    "    print(\"Even\")\n",
    "`\n",
    "- `this Symbol is used for Highlighting `\n",
    "\n",
    "\n"
   ]
  },
  {
   "cell_type": "code",
   "execution_count": null,
   "metadata": {},
   "outputs": [],
   "source": []
  }
 ],
 "metadata": {
  "kernelspec": {
   "display_name": "Python 3",
   "language": "python",
   "name": "python3"
  },
  "language_info": {
   "codemirror_mode": {
    "name": "ipython",
    "version": 3
   },
   "file_extension": ".py",
   "mimetype": "text/x-python",
   "name": "python",
   "nbconvert_exporter": "python",
   "pygments_lexer": "ipython3",
   "version": "3.8.5"
  }
 },
 "nbformat": 4,
 "nbformat_minor": 4
}
