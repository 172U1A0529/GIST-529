{
 "cells": [
  {
   "cell_type": "code",
   "execution_count": 2,
   "metadata": {},
   "outputs": [
    {
     "data": {
      "text/plain": [
       "45"
      ]
     },
     "execution_count": 2,
     "metadata": {},
     "output_type": "execute_result"
    }
   ],
   "source": [
    "# Another way to import numpy functions\n",
    "from numpy import sum,array\n",
    "\n",
    "sum(array([1,2,3,4,5,6,7,8,9]))\n",
    "\n"
   ]
  },
  {
   "cell_type": "markdown",
   "metadata": {},
   "source": [
    "#### Todays Adenda Pandas"
   ]
  },
  {
   "cell_type": "code",
   "execution_count": 44,
   "metadata": {},
   "outputs": [
    {
     "ename": "IndentationError",
     "evalue": "unexpected indent (<ipython-input-44-1581668f115a>, line 2)",
     "output_type": "error",
     "traceback": [
      "\u001b[1;36m  File \u001b[1;32m\"<ipython-input-44-1581668f115a>\"\u001b[1;36m, line \u001b[1;32m2\u001b[0m\n\u001b[1;33m    -> Series #Single row/column\u001b[0m\n\u001b[1;37m    ^\u001b[0m\n\u001b[1;31mIndentationError\u001b[0m\u001b[1;31m:\u001b[0m unexpected indent\n"
     ]
    }
   ],
   "source": [
    "- Pandas \n",
    "    -> Series #Single row/column\n",
    "    -> DataFrame #Combination of rows and columns\n",
    "- for easy acessing and moving data into the file thats why we r moving to pandas\n",
    "- It arranges data in dataframes"
   ]
  },
  {
   "cell_type": "code",
   "execution_count": 5,
   "metadata": {},
   "outputs": [
    {
     "name": "stdout",
     "output_type": "stream",
     "text": [
      "['BooleanDtype', 'Categorical', 'CategoricalDtype', 'CategoricalIndex', 'DataFrame', 'DateOffset', 'DatetimeIndex', 'DatetimeTZDtype', 'ExcelFile', 'ExcelWriter', 'Float64Index', 'Grouper', 'HDFStore', 'Index', 'IndexSlice', 'Int16Dtype', 'Int32Dtype', 'Int64Dtype', 'Int64Index', 'Int8Dtype', 'Interval', 'IntervalDtype', 'IntervalIndex', 'MultiIndex', 'NA', 'NaT', 'NamedAgg', 'Period', 'PeriodDtype', 'PeriodIndex', 'RangeIndex', 'Series', 'SparseDtype', 'StringDtype', 'Timedelta', 'TimedeltaIndex', 'Timestamp', 'UInt16Dtype', 'UInt32Dtype', 'UInt64Dtype', 'UInt64Index', 'UInt8Dtype', '__builtins__', '__cached__', '__doc__', '__docformat__', '__file__', '__getattr__', '__git_version__', '__loader__', '__name__', '__package__', '__path__', '__spec__', '__version__', '_config', '_hashtable', '_is_numpy_dev', '_lib', '_libs', '_np_version_under1p16', '_np_version_under1p17', '_np_version_under1p18', '_testing', '_tslib', '_typing', '_version', 'api', 'array', 'arrays', 'bdate_range', 'compat', 'concat', 'core', 'crosstab', 'cut', 'date_range', 'describe_option', 'errors', 'eval', 'factorize', 'get_dummies', 'get_option', 'infer_freq', 'interval_range', 'io', 'isna', 'isnull', 'json_normalize', 'lreshape', 'melt', 'merge', 'merge_asof', 'merge_ordered', 'notna', 'notnull', 'offsets', 'option_context', 'options', 'pandas', 'period_range', 'pivot', 'pivot_table', 'plotting', 'qcut', 'read_clipboard', 'read_csv', 'read_excel', 'read_feather', 'read_fwf', 'read_gbq', 'read_hdf', 'read_html', 'read_json', 'read_orc', 'read_parquet', 'read_pickle', 'read_sas', 'read_spss', 'read_sql', 'read_sql_query', 'read_sql_table', 'read_stata', 'read_table', 'reset_option', 'set_eng_float_format', 'set_option', 'show_versions', 'test', 'testing', 'timedelta_range', 'to_datetime', 'to_numeric', 'to_pickle', 'to_timedelta', 'tseries', 'unique', 'util', 'value_counts', 'wide_to_long']\n"
     ]
    }
   ],
   "source": [
    "import pandas as pd\n",
    "print(dir(pd))"
   ]
  },
  {
   "cell_type": "code",
   "execution_count": 6,
   "metadata": {},
   "outputs": [
    {
     "name": "stdout",
     "output_type": "stream",
     "text": [
      "140\n"
     ]
    }
   ],
   "source": [
    "print(len(dir(pd)))"
   ]
  },
  {
   "cell_type": "code",
   "execution_count": 9,
   "metadata": {},
   "outputs": [
    {
     "data": {
      "text/plain": [
       "'1.1.3'"
      ]
     },
     "execution_count": 9,
     "metadata": {},
     "output_type": "execute_result"
    }
   ],
   "source": [
    "pd.__version__"
   ]
  },
  {
   "cell_type": "markdown",
   "metadata": {},
   "source": [
    "# Pandas Series"
   ]
  },
  {
   "cell_type": "code",
   "execution_count": 11,
   "metadata": {},
   "outputs": [
    {
     "name": "stdout",
     "output_type": "stream",
     "text": [
      "[10 20 30 40 50 60 70 80 90]\n"
     ]
    }
   ],
   "source": [
    "mydata=np.arange(10,100,10)\n",
    "print(mydata)\n"
   ]
  },
  {
   "cell_type": "code",
   "execution_count": 12,
   "metadata": {},
   "outputs": [
    {
     "name": "stdout",
     "output_type": "stream",
     "text": [
      "0    10\n",
      "1    20\n",
      "2    30\n",
      "3    40\n",
      "4    50\n",
      "5    60\n",
      "6    70\n",
      "7    80\n",
      "8    90\n",
      "dtype: int32\n"
     ]
    }
   ],
   "source": [
    "mypopu_data=pd.Series(mydata)\n",
    "print(mypopu_data)"
   ]
  },
  {
   "cell_type": "code",
   "execution_count": null,
   "metadata": {},
   "outputs": [],
   "source": [
    "mypopu_data.name=\"Population\"\n"
   ]
  },
  {
   "cell_type": "code",
   "execution_count": 16,
   "metadata": {},
   "outputs": [
    {
     "data": {
      "text/plain": [
       "50"
      ]
     },
     "execution_count": 16,
     "metadata": {},
     "output_type": "execute_result"
    }
   ],
   "source": [
    "mypopu_data[4]"
   ]
  },
  {
   "cell_type": "code",
   "execution_count": 15,
   "metadata": {},
   "outputs": [
    {
     "data": {
      "text/plain": [
       "dtype('int32')"
      ]
     },
     "execution_count": 15,
     "metadata": {},
     "output_type": "execute_result"
    }
   ],
   "source": [
    "mypopu_data.name\n",
    "\n",
    "mypopu_data.dtype"
   ]
  },
  {
   "cell_type": "code",
   "execution_count": null,
   "metadata": {},
   "outputs": [],
   "source": [
    "import pandas as pd\n",
    "import numpy as np\n",
    "g7_pop=pd.Series([35.345,44.444,23.456,12.321,98.625])"
   ]
  },
  {
   "cell_type": "code",
   "execution_count": 17,
   "metadata": {},
   "outputs": [
    {
     "data": {
      "text/plain": [
       "0    10\n",
       "3    40\n",
       "6    70\n",
       "dtype: int32"
      ]
     },
     "execution_count": 17,
     "metadata": {},
     "output_type": "execute_result"
    }
   ],
   "source": [
    "mypopu_data[::3]"
   ]
  },
  {
   "cell_type": "code",
   "execution_count": 24,
   "metadata": {},
   "outputs": [
    {
     "data": {
      "text/plain": [
       "0    35.345\n",
       "1    44.444\n",
       "2    23.456\n",
       "3    12.321\n",
       "4    98.625\n",
       "dtype: float64"
      ]
     },
     "execution_count": 24,
     "metadata": {},
     "output_type": "execute_result"
    }
   ],
   "source": [
    "g7_pop.values\n",
    "g7_pop\n"
   ]
  },
  {
   "cell_type": "code",
   "execution_count": 21,
   "metadata": {},
   "outputs": [
    {
     "data": {
      "text/plain": [
       "numpy.ndarray"
      ]
     },
     "execution_count": 21,
     "metadata": {},
     "output_type": "execute_result"
    }
   ],
   "source": [
    "type(g7_pop.values)"
   ]
  },
  {
   "cell_type": "code",
   "execution_count": 25,
   "metadata": {},
   "outputs": [
    {
     "data": {
      "text/plain": [
       "RangeIndex(start=0, stop=5, step=1)"
      ]
     },
     "execution_count": 25,
     "metadata": {},
     "output_type": "execute_result"
    }
   ],
   "source": [
    "g7_pop.index"
   ]
  },
  {
   "cell_type": "code",
   "execution_count": 26,
   "metadata": {},
   "outputs": [
    {
     "data": {
      "text/plain": [
       "RangeIndex(start=0, stop=9, step=1)"
      ]
     },
     "execution_count": 26,
     "metadata": {},
     "output_type": "execute_result"
    }
   ],
   "source": [
    "mypopu_data.index"
   ]
  },
  {
   "cell_type": "code",
   "execution_count": 27,
   "metadata": {},
   "outputs": [],
   "source": [
    "mypopu_data.index=['a','b','c','d','e','f','g','h','i']"
   ]
  },
  {
   "cell_type": "code",
   "execution_count": 28,
   "metadata": {},
   "outputs": [
    {
     "data": {
      "text/plain": [
       "a    10\n",
       "b    20\n",
       "c    30\n",
       "d    40\n",
       "e    50\n",
       "f    60\n",
       "g    70\n",
       "h    80\n",
       "i    90\n",
       "dtype: int32"
      ]
     },
     "execution_count": 28,
     "metadata": {},
     "output_type": "execute_result"
    }
   ],
   "source": [
    "mypopu_data"
   ]
  },
  {
   "cell_type": "code",
   "execution_count": null,
   "metadata": {},
   "outputs": [],
   "source": [
    "g7_pop.index=['canada','hampi','Madhurai','Rameshwaram','Banglore','Chennai','Hyd','Nlr','US']"
   ]
  },
  {
   "cell_type": "code",
   "execution_count": 29,
   "metadata": {},
   "outputs": [
    {
     "data": {
      "text/plain": [
       "0    35.345\n",
       "1    44.444\n",
       "2    23.456\n",
       "3    12.321\n",
       "4    98.625\n",
       "dtype: float64"
      ]
     },
     "execution_count": 29,
     "metadata": {},
     "output_type": "execute_result"
    }
   ],
   "source": [
    "g7_pop"
   ]
  },
  {
   "cell_type": "code",
   "execution_count": 30,
   "metadata": {},
   "outputs": [
    {
     "data": {
      "text/plain": [
       "0    10\n",
       "1    20\n",
       "2    30\n",
       "3    40\n",
       "4    50\n",
       "5    60\n",
       "6    70\n",
       "7    80\n",
       "8    90\n",
       "dtype: int32"
      ]
     },
     "execution_count": 30,
     "metadata": {},
     "output_type": "execute_result"
    }
   ],
   "source": [
    "pd.Series(mydata)"
   ]
  },
  {
   "cell_type": "code",
   "execution_count": 31,
   "metadata": {},
   "outputs": [
    {
     "ename": "SyntaxError",
     "evalue": "invalid syntax (<ipython-input-31-f9c6ebec5984>, line 1)",
     "output_type": "error",
     "traceback": [
      "\u001b[1;36m  File \u001b[1;32m\"<ipython-input-31-f9c6ebec5984>\"\u001b[1;36m, line \u001b[1;32m1\u001b[0m\n\u001b[1;33m    mydt2=pd.Series('canada':12.345,'Italy':34.567,'US':45.678, name='g7 population')\u001b[0m\n\u001b[1;37m                            ^\u001b[0m\n\u001b[1;31mSyntaxError\u001b[0m\u001b[1;31m:\u001b[0m invalid syntax\n"
     ]
    }
   ],
   "source": [
    "mydt2=pd.Series('canada':12.345,'Italy':34.567,'US':45.678, name='g7 population')\n",
    "print(mydt2)\n"
   ]
  },
  {
   "cell_type": "code",
   "execution_count": 32,
   "metadata": {},
   "outputs": [],
   "source": [
    "import pandas as pd\n",
    "import numpy as np\n"
   ]
  },
  {
   "cell_type": "code",
   "execution_count": 35,
   "metadata": {},
   "outputs": [
    {
     "data": {
      "text/plain": [
       "1    2\n",
       "2    3\n",
       "3    4\n",
       "4    5\n",
       "5    6\n",
       "6    7\n",
       "7    8\n",
       "dtype: int32"
      ]
     },
     "execution_count": 35,
     "metadata": {},
     "output_type": "execute_result"
    }
   ],
   "source": [
    "R= pd.Series(np.array([2,3,4,5,6,7,8]),index=[1,2,3,4,5,6,7])\n",
    "R"
   ]
  },
  {
   "cell_type": "code",
   "execution_count": 41,
   "metadata": {},
   "outputs": [
    {
     "data": {
      "text/plain": [
       "a    2\n",
       "b    3\n",
       "c    4\n",
       "d    5\n",
       "e    6\n",
       "f    7\n",
       "g    8\n",
       "dtype: int32"
      ]
     },
     "execution_count": 41,
     "metadata": {},
     "output_type": "execute_result"
    }
   ],
   "source": [
    "L=pd.Series(np.array([2,3,4,5,6,7,8]),index=['a','b','c','d','e','f','g'])\n",
    "L"
   ]
  },
  {
   "cell_type": "code",
   "execution_count": null,
   "metadata": {},
   "outputs": [],
   "source": [
    "R.name=\"Numerical\""
   ]
  },
  {
   "cell_type": "code",
   "execution_count": 37,
   "metadata": {},
   "outputs": [
    {
     "data": {
      "text/plain": [
       "1    2\n",
       "2    3\n",
       "3    4\n",
       "4    5\n",
       "5    6\n",
       "6    7\n",
       "7    8\n",
       "dtype: int32"
      ]
     },
     "execution_count": 37,
     "metadata": {},
     "output_type": "execute_result"
    }
   ],
   "source": [
    "R"
   ]
  },
  {
   "cell_type": "code",
   "execution_count": 48,
   "metadata": {},
   "outputs": [
    {
     "data": {
      "text/plain": [
       "a    2.0\n",
       "b    3.0\n",
       "c    4.0\n",
       "d    5.0\n",
       "e    6.0\n",
       "f    7.0\n",
       "g    8.0\n",
       "Name: Roll No, dtype: float64"
      ]
     },
     "execution_count": 48,
     "metadata": {},
     "output_type": "execute_result"
    }
   ],
   "source": [
    "M= pd.Series(np.array([2,3,4,5,6,7,8]),index=['a','b','c','d','e','f','g'],name='Roll No',dtype='float')\n",
    "M"
   ]
  },
  {
   "cell_type": "code",
   "execution_count": 42,
   "metadata": {},
   "outputs": [
    {
     "name": "stderr",
     "output_type": "stream",
     "text": [
      "IOPub data rate exceeded.\n",
      "The notebook server will temporarily stop sending output\n",
      "to the client in order to avoid crashing it.\n",
      "To change this limit, set the config variable\n",
      "`--NotebookApp.iopub_data_rate_limit`.\n",
      "\n",
      "Current values:\n",
      "NotebookApp.iopub_data_rate_limit=1000000.0 (bytes/sec)\n",
      "NotebookApp.rate_limit_window=3.0 (secs)\n",
      "\n"
     ]
    }
   ],
   "source": [
    "help(np)"
   ]
  },
  {
   "cell_type": "code",
   "execution_count": 49,
   "metadata": {},
   "outputs": [
    {
     "data": {
      "text/plain": [
       "dict_keys(['Ravi', 'Raki', 'ramki', 'Ram', 'Raghav'])"
      ]
     },
     "execution_count": 49,
     "metadata": {},
     "output_type": "execute_result"
    }
   ],
   "source": [
    "D={'Ravi':98,'Raki':76,'ramki':89,'Ram':45,'Raghav':65}\n",
    "D.keys()"
   ]
  },
  {
   "cell_type": "code",
   "execution_count": 50,
   "metadata": {},
   "outputs": [
    {
     "data": {
      "text/plain": [
       "dict_values([98, 76, 89, 45, 65])"
      ]
     },
     "execution_count": 50,
     "metadata": {},
     "output_type": "execute_result"
    }
   ],
   "source": [
    "D.values()"
   ]
  },
  {
   "cell_type": "code",
   "execution_count": 51,
   "metadata": {},
   "outputs": [
    {
     "data": {
      "text/plain": [
       "dict_items([('Ravi', 98), ('Raki', 76), ('ramki', 89), ('Ram', 45), ('Raghav', 65)])"
      ]
     },
     "execution_count": 51,
     "metadata": {},
     "output_type": "execute_result"
    }
   ],
   "source": [
    "D.items()"
   ]
  },
  {
   "cell_type": "code",
   "execution_count": 54,
   "metadata": {},
   "outputs": [
    {
     "name": "stdout",
     "output_type": "stream",
     "text": [
      "Ravi      98\n",
      "Raki      76\n",
      "ramki     89\n",
      "Ram       45\n",
      "Raghav    65\n",
      "Name: S Marks, dtype: object\n"
     ]
    }
   ],
   "source": [
    "Marks=pd.Series(D,name='S Marks',dtype='str')\n",
    "print(Marks)"
   ]
  },
  {
   "cell_type": "code",
   "execution_count": 66,
   "metadata": {},
   "outputs": [
    {
     "data": {
      "text/plain": [
       "'98'"
      ]
     },
     "execution_count": 66,
     "metadata": {},
     "output_type": "execute_result"
    }
   ],
   "source": [
    "Marks['Ravi']\n"
   ]
  },
  {
   "cell_type": "code",
   "execution_count": 67,
   "metadata": {},
   "outputs": [
    {
     "data": {
      "text/plain": [
       "Ravi      98\n",
       "Raki      76\n",
       "ramki     89\n",
       "Ram       45\n",
       "Raghav    65\n",
       "Name: S Marks, dtype: object"
      ]
     },
     "execution_count": 67,
     "metadata": {},
     "output_type": "execute_result"
    }
   ],
   "source": [
    "Marks['Ravi':'Raghav']"
   ]
  },
  {
   "cell_type": "code",
   "execution_count": null,
   "metadata": {},
   "outputs": [],
   "source": [
    "# iloc-Values\n",
    "# loc-positions\n",
    " \n",
    "    "
   ]
  },
  {
   "cell_type": "markdown",
   "metadata": {},
   "source": [
    "Marks.iloc[0]"
   ]
  },
  {
   "cell_type": "code",
   "execution_count": 69,
   "metadata": {},
   "outputs": [
    {
     "data": {
      "text/plain": [
       "'65'"
      ]
     },
     "execution_count": 69,
     "metadata": {},
     "output_type": "execute_result"
    }
   ],
   "source": [
    "Marks.loc['Raghav']"
   ]
  },
  {
   "cell_type": "code",
   "execution_count": 70,
   "metadata": {},
   "outputs": [
    {
     "data": {
      "text/plain": [
       "'98'"
      ]
     },
     "execution_count": 70,
     "metadata": {},
     "output_type": "execute_result"
    }
   ],
   "source": [
    "Marks.iloc[0]"
   ]
  },
  {
   "cell_type": "code",
   "execution_count": 71,
   "metadata": {},
   "outputs": [
    {
     "data": {
      "text/plain": [
       "Ravi     98\n",
       "Raki     76\n",
       "ramki    89\n",
       "Ram      45\n",
       "Name: S Marks, dtype: object"
      ]
     },
     "execution_count": 71,
     "metadata": {},
     "output_type": "execute_result"
    }
   ],
   "source": [
    "Marks.iloc[0:4]"
   ]
  },
  {
   "cell_type": "code",
   "execution_count": 72,
   "metadata": {},
   "outputs": [],
   "source": [
    "import random "
   ]
  },
  {
   "cell_type": "code",
   "execution_count": 77,
   "metadata": {},
   "outputs": [
    {
     "data": {
      "text/plain": [
       "8"
      ]
     },
     "execution_count": 77,
     "metadata": {},
     "output_type": "execute_result"
    }
   ],
   "source": [
    "random.randint(1,10)"
   ]
  },
  {
   "cell_type": "code",
   "execution_count": 76,
   "metadata": {},
   "outputs": [
    {
     "data": {
      "text/plain": [
       "295"
      ]
     },
     "execution_count": 76,
     "metadata": {},
     "output_type": "execute_result"
    }
   ],
   "source": [
    "random.randint(100,300)"
   ]
  },
  {
   "cell_type": "code",
   "execution_count": 78,
   "metadata": {},
   "outputs": [
    {
     "data": {
      "text/plain": [
       "A     2\n",
       "B     3\n",
       "C     4\n",
       "D     5\n",
       "E     6\n",
       "F     7\n",
       "G     7\n",
       "H    89\n",
       "Name: Grades, dtype: int32"
      ]
     },
     "execution_count": 78,
     "metadata": {},
     "output_type": "execute_result"
    }
   ],
   "source": [
    "b=pd.Series(np.array([2,3,4,5,6,7,7,89]),index=list('ABCDEFGH'),name='Grades')\n",
    "b"
   ]
  },
  {
   "cell_type": "code",
   "execution_count": 81,
   "metadata": {},
   "outputs": [
    {
     "data": {
      "text/plain": [
       "C     4\n",
       "D     5\n",
       "E     6\n",
       "F     7\n",
       "G     7\n",
       "H    89\n",
       "Name: Grades, dtype: int32"
      ]
     },
     "execution_count": 81,
     "metadata": {},
     "output_type": "execute_result"
    }
   ],
   "source": [
    "b[b>=4]"
   ]
  },
  {
   "cell_type": "code",
   "execution_count": 82,
   "metadata": {},
   "outputs": [
    {
     "data": {
      "text/plain": [
       "A     10\n",
       "B     15\n",
       "C     20\n",
       "D     25\n",
       "E     30\n",
       "F     35\n",
       "G     35\n",
       "H    445\n",
       "Name: Grades, dtype: int32"
      ]
     },
     "execution_count": 82,
     "metadata": {},
     "output_type": "execute_result"
    }
   ],
   "source": [
    "b*5"
   ]
  },
  {
   "cell_type": "code",
   "execution_count": 83,
   "metadata": {},
   "outputs": [
    {
     "data": {
      "text/plain": [
       "15.375"
      ]
     },
     "execution_count": 83,
     "metadata": {},
     "output_type": "execute_result"
    }
   ],
   "source": [
    "b.mean()"
   ]
  },
  {
   "cell_type": "code",
   "execution_count": 85,
   "metadata": {},
   "outputs": [
    {
     "data": {
      "text/plain": [
       "3.5"
      ]
     },
     "execution_count": 85,
     "metadata": {},
     "output_type": "execute_result"
    }
   ],
   "source": [
    "b['A':'D'].mean()"
   ]
  },
  {
   "cell_type": "code",
   "execution_count": 87,
   "metadata": {},
   "outputs": [
    {
     "data": {
      "text/plain": [
       "A     9\n",
       "B     3\n",
       "C     4\n",
       "D     5\n",
       "E     6\n",
       "F     7\n",
       "G     7\n",
       "H    89\n",
       "Name: Grades, dtype: int32"
      ]
     },
     "execution_count": 87,
     "metadata": {},
     "output_type": "execute_result"
    }
   ],
   "source": [
    "b['A']=9\n",
    "b"
   ]
  },
  {
   "cell_type": "markdown",
   "metadata": {},
   "source": [
    "#### DATA FRAMES"
   ]
  },
  {
   "cell_type": "code",
   "execution_count": 95,
   "metadata": {},
   "outputs": [],
   "source": [
    "ms_marks={'Sub1':[98,97,99,87,88,83,72,74,71,65],'Sub2':[98,99,90,98,80,87,89,86,67,76],'Sub3':[100,90,80,70,60,50,40,30,20,10],'Sub4':[100,6,8,90,3,4,67,89,50,20]}"
   ]
  },
  {
   "cell_type": "code",
   "execution_count": 96,
   "metadata": {},
   "outputs": [
    {
     "data": {
      "text/html": [
       "<div>\n",
       "<style scoped>\n",
       "    .dataframe tbody tr th:only-of-type {\n",
       "        vertical-align: middle;\n",
       "    }\n",
       "\n",
       "    .dataframe tbody tr th {\n",
       "        vertical-align: top;\n",
       "    }\n",
       "\n",
       "    .dataframe thead th {\n",
       "        text-align: right;\n",
       "    }\n",
       "</style>\n",
       "<table border=\"1\" class=\"dataframe\">\n",
       "  <thead>\n",
       "    <tr style=\"text-align: right;\">\n",
       "      <th></th>\n",
       "      <th>Sub1</th>\n",
       "      <th>Sub2</th>\n",
       "      <th>Sub3</th>\n",
       "      <th>Sub4</th>\n",
       "    </tr>\n",
       "  </thead>\n",
       "  <tbody>\n",
       "    <tr>\n",
       "      <th>Yathisha</th>\n",
       "      <td>98</td>\n",
       "      <td>98</td>\n",
       "      <td>100</td>\n",
       "      <td>100</td>\n",
       "    </tr>\n",
       "    <tr>\n",
       "      <th>Sushma</th>\n",
       "      <td>97</td>\n",
       "      <td>99</td>\n",
       "      <td>90</td>\n",
       "      <td>6</td>\n",
       "    </tr>\n",
       "    <tr>\n",
       "      <th>Bhargavi</th>\n",
       "      <td>99</td>\n",
       "      <td>90</td>\n",
       "      <td>80</td>\n",
       "      <td>8</td>\n",
       "    </tr>\n",
       "    <tr>\n",
       "      <th>Bhavani</th>\n",
       "      <td>87</td>\n",
       "      <td>98</td>\n",
       "      <td>70</td>\n",
       "      <td>90</td>\n",
       "    </tr>\n",
       "    <tr>\n",
       "      <th>Jyothsna</th>\n",
       "      <td>88</td>\n",
       "      <td>80</td>\n",
       "      <td>60</td>\n",
       "      <td>3</td>\n",
       "    </tr>\n",
       "    <tr>\n",
       "      <th>Sahithi</th>\n",
       "      <td>83</td>\n",
       "      <td>87</td>\n",
       "      <td>50</td>\n",
       "      <td>4</td>\n",
       "    </tr>\n",
       "    <tr>\n",
       "      <th>Sweety</th>\n",
       "      <td>72</td>\n",
       "      <td>89</td>\n",
       "      <td>40</td>\n",
       "      <td>67</td>\n",
       "    </tr>\n",
       "    <tr>\n",
       "      <th>Harini</th>\n",
       "      <td>74</td>\n",
       "      <td>86</td>\n",
       "      <td>30</td>\n",
       "      <td>89</td>\n",
       "    </tr>\n",
       "    <tr>\n",
       "      <th>Paddu</th>\n",
       "      <td>71</td>\n",
       "      <td>67</td>\n",
       "      <td>20</td>\n",
       "      <td>50</td>\n",
       "    </tr>\n",
       "    <tr>\n",
       "      <th>Varsham</th>\n",
       "      <td>65</td>\n",
       "      <td>76</td>\n",
       "      <td>10</td>\n",
       "      <td>20</td>\n",
       "    </tr>\n",
       "  </tbody>\n",
       "</table>\n",
       "</div>"
      ],
      "text/plain": [
       "          Sub1  Sub2  Sub3  Sub4\n",
       "Yathisha    98    98   100   100\n",
       "Sushma      97    99    90     6\n",
       "Bhargavi    99    90    80     8\n",
       "Bhavani     87    98    70    90\n",
       "Jyothsna    88    80    60     3\n",
       "Sahithi     83    87    50     4\n",
       "Sweety      72    89    40    67\n",
       "Harini      74    86    30    89\n",
       "Paddu       71    67    20    50\n",
       "Varsham     65    76    10    20"
      ]
     },
     "execution_count": 96,
     "metadata": {},
     "output_type": "execute_result"
    }
   ],
   "source": [
    "marks=pd.DataFrame(ms_marks,index=['Yathisha','Sushma','Bhargavi','Bhavani','Jyothsna','Sahithi','Sweety','Harini','Paddu','Varsham'])\n",
    "marks"
   ]
  },
  {
   "cell_type": "code",
   "execution_count": 103,
   "metadata": {},
   "outputs": [
    {
     "data": {
      "text/html": [
       "<div>\n",
       "<style scoped>\n",
       "    .dataframe tbody tr th:only-of-type {\n",
       "        vertical-align: middle;\n",
       "    }\n",
       "\n",
       "    .dataframe tbody tr th {\n",
       "        vertical-align: top;\n",
       "    }\n",
       "\n",
       "    .dataframe thead th {\n",
       "        text-align: right;\n",
       "    }\n",
       "</style>\n",
       "<table border=\"1\" class=\"dataframe\">\n",
       "  <thead>\n",
       "    <tr style=\"text-align: right;\">\n",
       "      <th></th>\n",
       "      <th>Sub1</th>\n",
       "      <th>Sub2</th>\n",
       "      <th>Sub3</th>\n",
       "      <th>Sub4</th>\n",
       "    </tr>\n",
       "  </thead>\n",
       "  <tbody>\n",
       "    <tr>\n",
       "      <th>Yathisha</th>\n",
       "      <td>98</td>\n",
       "      <td>98</td>\n",
       "      <td>100</td>\n",
       "      <td>100</td>\n",
       "    </tr>\n",
       "    <tr>\n",
       "      <th>Sushma</th>\n",
       "      <td>97</td>\n",
       "      <td>99</td>\n",
       "      <td>90</td>\n",
       "      <td>6</td>\n",
       "    </tr>\n",
       "  </tbody>\n",
       "</table>\n",
       "</div>"
      ],
      "text/plain": [
       "          Sub1  Sub2  Sub3  Sub4\n",
       "Yathisha    98    98   100   100\n",
       "Sushma      97    99    90     6"
      ]
     },
     "execution_count": 103,
     "metadata": {},
     "output_type": "execute_result"
    }
   ],
   "source": [
    "marks.loc[['Yathisha','Sushma']]"
   ]
  },
  {
   "cell_type": "code",
   "execution_count": 105,
   "metadata": {},
   "outputs": [
    {
     "data": {
      "text/plain": [
       "396"
      ]
     },
     "execution_count": 105,
     "metadata": {},
     "output_type": "execute_result"
    }
   ],
   "source": [
    "marks.loc['Yathisha'].sum()"
   ]
  },
  {
   "cell_type": "code",
   "execution_count": 106,
   "metadata": {},
   "outputs": [
    {
     "data": {
      "text/plain": [
       "99.0"
      ]
     },
     "execution_count": 106,
     "metadata": {},
     "output_type": "execute_result"
    }
   ],
   "source": [
    "marks.loc['Yathisha'].mean()"
   ]
  },
  {
   "cell_type": "code",
   "execution_count": 108,
   "metadata": {},
   "outputs": [
    {
     "data": {
      "text/plain": [
       "Index(['Yathisha', 'Sushma', 'Bhargavi', 'Bhavani', 'Jyothsna', 'Sahithi',\n",
       "       'Sweety', 'Harini', 'Paddu', 'Varsham'],\n",
       "      dtype='object')"
      ]
     },
     "execution_count": 108,
     "metadata": {},
     "output_type": "execute_result"
    }
   ],
   "source": [
    "marks.index"
   ]
  },
  {
   "cell_type": "code",
   "execution_count": 109,
   "metadata": {},
   "outputs": [
    {
     "data": {
      "text/plain": [
       "Index(['Sub1', 'Sub2', 'Sub3', 'Sub4'], dtype='object')"
      ]
     },
     "execution_count": 109,
     "metadata": {},
     "output_type": "execute_result"
    }
   ],
   "source": [
    "marks.columns"
   ]
  },
  {
   "cell_type": "code",
   "execution_count": 110,
   "metadata": {},
   "outputs": [
    {
     "name": "stdout",
     "output_type": "stream",
     "text": [
      "<class 'pandas.core.frame.DataFrame'>\n",
      "Index: 10 entries, Yathisha to Varsham\n",
      "Data columns (total 4 columns):\n",
      " #   Column  Non-Null Count  Dtype\n",
      "---  ------  --------------  -----\n",
      " 0   Sub1    10 non-null     int64\n",
      " 1   Sub2    10 non-null     int64\n",
      " 2   Sub3    10 non-null     int64\n",
      " 3   Sub4    10 non-null     int64\n",
      "dtypes: int64(4)\n",
      "memory usage: 720.0+ bytes\n"
     ]
    }
   ],
   "source": [
    "marks.info()"
   ]
  },
  {
   "cell_type": "code",
   "execution_count": 111,
   "metadata": {},
   "outputs": [
    {
     "data": {
      "text/plain": [
       "40"
      ]
     },
     "execution_count": 111,
     "metadata": {},
     "output_type": "execute_result"
    }
   ],
   "source": [
    "marks.size"
   ]
  },
  {
   "cell_type": "code",
   "execution_count": 112,
   "metadata": {},
   "outputs": [
    {
     "data": {
      "text/plain": [
       "(10, 4)"
      ]
     },
     "execution_count": 112,
     "metadata": {},
     "output_type": "execute_result"
    }
   ],
   "source": [
    "marks.shape"
   ]
  },
  {
   "cell_type": "code",
   "execution_count": 113,
   "metadata": {},
   "outputs": [
    {
     "data": {
      "text/html": [
       "<div>\n",
       "<style scoped>\n",
       "    .dataframe tbody tr th:only-of-type {\n",
       "        vertical-align: middle;\n",
       "    }\n",
       "\n",
       "    .dataframe tbody tr th {\n",
       "        vertical-align: top;\n",
       "    }\n",
       "\n",
       "    .dataframe thead th {\n",
       "        text-align: right;\n",
       "    }\n",
       "</style>\n",
       "<table border=\"1\" class=\"dataframe\">\n",
       "  <thead>\n",
       "    <tr style=\"text-align: right;\">\n",
       "      <th></th>\n",
       "      <th>Sub1</th>\n",
       "      <th>Sub2</th>\n",
       "      <th>Sub3</th>\n",
       "      <th>Sub4</th>\n",
       "    </tr>\n",
       "  </thead>\n",
       "  <tbody>\n",
       "    <tr>\n",
       "      <th>count</th>\n",
       "      <td>10.000000</td>\n",
       "      <td>10.000000</td>\n",
       "      <td>10.000000</td>\n",
       "      <td>10.000000</td>\n",
       "    </tr>\n",
       "    <tr>\n",
       "      <th>mean</th>\n",
       "      <td>83.400000</td>\n",
       "      <td>87.000000</td>\n",
       "      <td>55.000000</td>\n",
       "      <td>43.700000</td>\n",
       "    </tr>\n",
       "    <tr>\n",
       "      <th>std</th>\n",
       "      <td>12.411464</td>\n",
       "      <td>10.381608</td>\n",
       "      <td>30.276504</td>\n",
       "      <td>40.052882</td>\n",
       "    </tr>\n",
       "    <tr>\n",
       "      <th>min</th>\n",
       "      <td>65.000000</td>\n",
       "      <td>67.000000</td>\n",
       "      <td>10.000000</td>\n",
       "      <td>3.000000</td>\n",
       "    </tr>\n",
       "    <tr>\n",
       "      <th>25%</th>\n",
       "      <td>72.500000</td>\n",
       "      <td>81.500000</td>\n",
       "      <td>32.500000</td>\n",
       "      <td>6.500000</td>\n",
       "    </tr>\n",
       "    <tr>\n",
       "      <th>50%</th>\n",
       "      <td>85.000000</td>\n",
       "      <td>88.000000</td>\n",
       "      <td>55.000000</td>\n",
       "      <td>35.000000</td>\n",
       "    </tr>\n",
       "    <tr>\n",
       "      <th>75%</th>\n",
       "      <td>94.750000</td>\n",
       "      <td>96.000000</td>\n",
       "      <td>77.500000</td>\n",
       "      <td>83.500000</td>\n",
       "    </tr>\n",
       "    <tr>\n",
       "      <th>max</th>\n",
       "      <td>99.000000</td>\n",
       "      <td>99.000000</td>\n",
       "      <td>100.000000</td>\n",
       "      <td>100.000000</td>\n",
       "    </tr>\n",
       "  </tbody>\n",
       "</table>\n",
       "</div>"
      ],
      "text/plain": [
       "            Sub1       Sub2        Sub3        Sub4\n",
       "count  10.000000  10.000000   10.000000   10.000000\n",
       "mean   83.400000  87.000000   55.000000   43.700000\n",
       "std    12.411464  10.381608   30.276504   40.052882\n",
       "min    65.000000  67.000000   10.000000    3.000000\n",
       "25%    72.500000  81.500000   32.500000    6.500000\n",
       "50%    85.000000  88.000000   55.000000   35.000000\n",
       "75%    94.750000  96.000000   77.500000   83.500000\n",
       "max    99.000000  99.000000  100.000000  100.000000"
      ]
     },
     "execution_count": 113,
     "metadata": {},
     "output_type": "execute_result"
    }
   ],
   "source": [
    "marks.describe()"
   ]
  },
  {
   "cell_type": "code",
   "execution_count": 115,
   "metadata": {},
   "outputs": [
    {
     "data": {
      "text/plain": [
       "Yathisha    98\n",
       "Sushma      97\n",
       "Bhargavi    99\n",
       "Bhavani     87\n",
       "Jyothsna    88\n",
       "Sahithi     83\n",
       "Sweety      72\n",
       "Harini      74\n",
       "Paddu       71\n",
       "Varsham     65\n",
       "Name: Sub1, dtype: int64"
      ]
     },
     "execution_count": 115,
     "metadata": {},
     "output_type": "execute_result"
    }
   ],
   "source": [
    "marks['Sub1']"
   ]
  },
  {
   "cell_type": "code",
   "execution_count": 120,
   "metadata": {},
   "outputs": [
    {
     "data": {
      "text/html": [
       "<div>\n",
       "<style scoped>\n",
       "    .dataframe tbody tr th:only-of-type {\n",
       "        vertical-align: middle;\n",
       "    }\n",
       "\n",
       "    .dataframe tbody tr th {\n",
       "        vertical-align: top;\n",
       "    }\n",
       "\n",
       "    .dataframe thead th {\n",
       "        text-align: right;\n",
       "    }\n",
       "</style>\n",
       "<table border=\"1\" class=\"dataframe\">\n",
       "  <thead>\n",
       "    <tr style=\"text-align: right;\">\n",
       "      <th></th>\n",
       "      <th>Sub1</th>\n",
       "      <th>Sub4</th>\n",
       "    </tr>\n",
       "  </thead>\n",
       "  <tbody>\n",
       "    <tr>\n",
       "      <th>Yathisha</th>\n",
       "      <td>98</td>\n",
       "      <td>100</td>\n",
       "    </tr>\n",
       "    <tr>\n",
       "      <th>Sushma</th>\n",
       "      <td>97</td>\n",
       "      <td>6</td>\n",
       "    </tr>\n",
       "    <tr>\n",
       "      <th>Bhargavi</th>\n",
       "      <td>99</td>\n",
       "      <td>8</td>\n",
       "    </tr>\n",
       "    <tr>\n",
       "      <th>Bhavani</th>\n",
       "      <td>87</td>\n",
       "      <td>90</td>\n",
       "    </tr>\n",
       "    <tr>\n",
       "      <th>Jyothsna</th>\n",
       "      <td>88</td>\n",
       "      <td>3</td>\n",
       "    </tr>\n",
       "    <tr>\n",
       "      <th>Sahithi</th>\n",
       "      <td>83</td>\n",
       "      <td>4</td>\n",
       "    </tr>\n",
       "    <tr>\n",
       "      <th>Sweety</th>\n",
       "      <td>72</td>\n",
       "      <td>67</td>\n",
       "    </tr>\n",
       "    <tr>\n",
       "      <th>Harini</th>\n",
       "      <td>74</td>\n",
       "      <td>89</td>\n",
       "    </tr>\n",
       "    <tr>\n",
       "      <th>Paddu</th>\n",
       "      <td>71</td>\n",
       "      <td>50</td>\n",
       "    </tr>\n",
       "    <tr>\n",
       "      <th>Varsham</th>\n",
       "      <td>65</td>\n",
       "      <td>20</td>\n",
       "    </tr>\n",
       "  </tbody>\n",
       "</table>\n",
       "</div>"
      ],
      "text/plain": [
       "          Sub1  Sub4\n",
       "Yathisha    98   100\n",
       "Sushma      97     6\n",
       "Bhargavi    99     8\n",
       "Bhavani     87    90\n",
       "Jyothsna    88     3\n",
       "Sahithi     83     4\n",
       "Sweety      72    67\n",
       "Harini      74    89\n",
       "Paddu       71    50\n",
       "Varsham     65    20"
      ]
     },
     "execution_count": 120,
     "metadata": {},
     "output_type": "execute_result"
    }
   ],
   "source": [
    "marks[['Sub1','Sub4']]"
   ]
  },
  {
   "cell_type": "code",
   "execution_count": 121,
   "metadata": {},
   "outputs": [
    {
     "data": {
      "text/html": [
       "<div>\n",
       "<style scoped>\n",
       "    .dataframe tbody tr th:only-of-type {\n",
       "        vertical-align: middle;\n",
       "    }\n",
       "\n",
       "    .dataframe tbody tr th {\n",
       "        vertical-align: top;\n",
       "    }\n",
       "\n",
       "    .dataframe thead th {\n",
       "        text-align: right;\n",
       "    }\n",
       "</style>\n",
       "<table border=\"1\" class=\"dataframe\">\n",
       "  <thead>\n",
       "    <tr style=\"text-align: right;\">\n",
       "      <th></th>\n",
       "      <th>Sub1</th>\n",
       "      <th>Sub2</th>\n",
       "      <th>Sub3</th>\n",
       "      <th>Sub4</th>\n",
       "    </tr>\n",
       "  </thead>\n",
       "  <tbody>\n",
       "    <tr>\n",
       "      <th>Yathisha</th>\n",
       "      <td>98.0</td>\n",
       "      <td>98.0</td>\n",
       "      <td>100.0</td>\n",
       "      <td>100.0</td>\n",
       "    </tr>\n",
       "    <tr>\n",
       "      <th>Sushma</th>\n",
       "      <td>97.0</td>\n",
       "      <td>99.0</td>\n",
       "      <td>90.0</td>\n",
       "      <td>NaN</td>\n",
       "    </tr>\n",
       "    <tr>\n",
       "      <th>Bhargavi</th>\n",
       "      <td>99.0</td>\n",
       "      <td>90.0</td>\n",
       "      <td>80.0</td>\n",
       "      <td>NaN</td>\n",
       "    </tr>\n",
       "    <tr>\n",
       "      <th>Bhavani</th>\n",
       "      <td>87.0</td>\n",
       "      <td>98.0</td>\n",
       "      <td>NaN</td>\n",
       "      <td>90.0</td>\n",
       "    </tr>\n",
       "    <tr>\n",
       "      <th>Jyothsna</th>\n",
       "      <td>88.0</td>\n",
       "      <td>80.0</td>\n",
       "      <td>NaN</td>\n",
       "      <td>NaN</td>\n",
       "    </tr>\n",
       "    <tr>\n",
       "      <th>Sahithi</th>\n",
       "      <td>83.0</td>\n",
       "      <td>87.0</td>\n",
       "      <td>NaN</td>\n",
       "      <td>NaN</td>\n",
       "    </tr>\n",
       "    <tr>\n",
       "      <th>Sweety</th>\n",
       "      <td>72.0</td>\n",
       "      <td>89.0</td>\n",
       "      <td>NaN</td>\n",
       "      <td>NaN</td>\n",
       "    </tr>\n",
       "    <tr>\n",
       "      <th>Harini</th>\n",
       "      <td>74.0</td>\n",
       "      <td>86.0</td>\n",
       "      <td>NaN</td>\n",
       "      <td>89.0</td>\n",
       "    </tr>\n",
       "    <tr>\n",
       "      <th>Paddu</th>\n",
       "      <td>71.0</td>\n",
       "      <td>NaN</td>\n",
       "      <td>NaN</td>\n",
       "      <td>NaN</td>\n",
       "    </tr>\n",
       "    <tr>\n",
       "      <th>Varsham</th>\n",
       "      <td>NaN</td>\n",
       "      <td>76.0</td>\n",
       "      <td>NaN</td>\n",
       "      <td>NaN</td>\n",
       "    </tr>\n",
       "  </tbody>\n",
       "</table>\n",
       "</div>"
      ],
      "text/plain": [
       "          Sub1  Sub2   Sub3   Sub4\n",
       "Yathisha  98.0  98.0  100.0  100.0\n",
       "Sushma    97.0  99.0   90.0    NaN\n",
       "Bhargavi  99.0  90.0   80.0    NaN\n",
       "Bhavani   87.0  98.0    NaN   90.0\n",
       "Jyothsna  88.0  80.0    NaN    NaN\n",
       "Sahithi   83.0  87.0    NaN    NaN\n",
       "Sweety    72.0  89.0    NaN    NaN\n",
       "Harini    74.0  86.0    NaN   89.0\n",
       "Paddu     71.0   NaN    NaN    NaN\n",
       "Varsham    NaN  76.0    NaN    NaN"
      ]
     },
     "execution_count": 121,
     "metadata": {},
     "output_type": "execute_result"
    }
   ],
   "source": [
    "marks[marks>70]"
   ]
  },
  {
   "cell_type": "code",
   "execution_count": 134,
   "metadata": {},
   "outputs": [
    {
     "data": {
      "text/plain": [
       "65"
      ]
     },
     "execution_count": 134,
     "metadata": {},
     "output_type": "execute_result"
    }
   ],
   "source": [
    "marks.Sub1['Varsham']\n"
   ]
  },
  {
   "cell_type": "code",
   "execution_count": 135,
   "metadata": {},
   "outputs": [
    {
     "data": {
      "text/plain": [
       "87"
      ]
     },
     "execution_count": 135,
     "metadata": {},
     "output_type": "execute_result"
    }
   ],
   "source": [
    "marks.iloc[3][0]"
   ]
  },
  {
   "cell_type": "code",
   "execution_count": 137,
   "metadata": {},
   "outputs": [
    {
     "data": {
      "text/plain": [
       "Sub1     98\n",
       "Sub2     98\n",
       "Sub3    100\n",
       "Name: Yathisha, dtype: int64"
      ]
     },
     "execution_count": 137,
     "metadata": {},
     "output_type": "execute_result"
    }
   ],
   "source": [
    "marks.iloc[0][0:3]"
   ]
  },
  {
   "cell_type": "code",
   "execution_count": 138,
   "metadata": {},
   "outputs": [
    {
     "data": {
      "text/plain": [
       "50"
      ]
     },
     "execution_count": 138,
     "metadata": {},
     "output_type": "execute_result"
    }
   ],
   "source": [
    "marks.iloc[5][2]"
   ]
  },
  {
   "cell_type": "code",
   "execution_count": 143,
   "metadata": {},
   "outputs": [],
   "source": [
    "marks['Sub5']=[99,79,69,59,49,67,89,88,57,35]"
   ]
  },
  {
   "cell_type": "code",
   "execution_count": 144,
   "metadata": {},
   "outputs": [
    {
     "data": {
      "text/html": [
       "<div>\n",
       "<style scoped>\n",
       "    .dataframe tbody tr th:only-of-type {\n",
       "        vertical-align: middle;\n",
       "    }\n",
       "\n",
       "    .dataframe tbody tr th {\n",
       "        vertical-align: top;\n",
       "    }\n",
       "\n",
       "    .dataframe thead th {\n",
       "        text-align: right;\n",
       "    }\n",
       "</style>\n",
       "<table border=\"1\" class=\"dataframe\">\n",
       "  <thead>\n",
       "    <tr style=\"text-align: right;\">\n",
       "      <th></th>\n",
       "      <th>Sub1</th>\n",
       "      <th>Sub2</th>\n",
       "      <th>Sub3</th>\n",
       "      <th>Sub4</th>\n",
       "      <th>Sub5</th>\n",
       "    </tr>\n",
       "  </thead>\n",
       "  <tbody>\n",
       "    <tr>\n",
       "      <th>Yathisha</th>\n",
       "      <td>98</td>\n",
       "      <td>98</td>\n",
       "      <td>100</td>\n",
       "      <td>100</td>\n",
       "      <td>99</td>\n",
       "    </tr>\n",
       "    <tr>\n",
       "      <th>Sushma</th>\n",
       "      <td>97</td>\n",
       "      <td>99</td>\n",
       "      <td>90</td>\n",
       "      <td>6</td>\n",
       "      <td>79</td>\n",
       "    </tr>\n",
       "    <tr>\n",
       "      <th>Bhargavi</th>\n",
       "      <td>99</td>\n",
       "      <td>90</td>\n",
       "      <td>80</td>\n",
       "      <td>8</td>\n",
       "      <td>69</td>\n",
       "    </tr>\n",
       "    <tr>\n",
       "      <th>Bhavani</th>\n",
       "      <td>87</td>\n",
       "      <td>98</td>\n",
       "      <td>70</td>\n",
       "      <td>90</td>\n",
       "      <td>59</td>\n",
       "    </tr>\n",
       "    <tr>\n",
       "      <th>Jyothsna</th>\n",
       "      <td>88</td>\n",
       "      <td>80</td>\n",
       "      <td>60</td>\n",
       "      <td>3</td>\n",
       "      <td>49</td>\n",
       "    </tr>\n",
       "    <tr>\n",
       "      <th>Sahithi</th>\n",
       "      <td>83</td>\n",
       "      <td>87</td>\n",
       "      <td>50</td>\n",
       "      <td>4</td>\n",
       "      <td>67</td>\n",
       "    </tr>\n",
       "    <tr>\n",
       "      <th>Sweety</th>\n",
       "      <td>72</td>\n",
       "      <td>89</td>\n",
       "      <td>40</td>\n",
       "      <td>67</td>\n",
       "      <td>89</td>\n",
       "    </tr>\n",
       "    <tr>\n",
       "      <th>Harini</th>\n",
       "      <td>74</td>\n",
       "      <td>86</td>\n",
       "      <td>30</td>\n",
       "      <td>89</td>\n",
       "      <td>88</td>\n",
       "    </tr>\n",
       "    <tr>\n",
       "      <th>Paddu</th>\n",
       "      <td>71</td>\n",
       "      <td>67</td>\n",
       "      <td>20</td>\n",
       "      <td>50</td>\n",
       "      <td>57</td>\n",
       "    </tr>\n",
       "    <tr>\n",
       "      <th>Varsham</th>\n",
       "      <td>65</td>\n",
       "      <td>76</td>\n",
       "      <td>10</td>\n",
       "      <td>20</td>\n",
       "      <td>35</td>\n",
       "    </tr>\n",
       "  </tbody>\n",
       "</table>\n",
       "</div>"
      ],
      "text/plain": [
       "          Sub1  Sub2  Sub3  Sub4  Sub5\n",
       "Yathisha    98    98   100   100    99\n",
       "Sushma      97    99    90     6    79\n",
       "Bhargavi    99    90    80     8    69\n",
       "Bhavani     87    98    70    90    59\n",
       "Jyothsna    88    80    60     3    49\n",
       "Sahithi     83    87    50     4    67\n",
       "Sweety      72    89    40    67    89\n",
       "Harini      74    86    30    89    88\n",
       "Paddu       71    67    20    50    57\n",
       "Varsham     65    76    10    20    35"
      ]
     },
     "execution_count": 144,
     "metadata": {},
     "output_type": "execute_result"
    }
   ],
   "source": [
    "marks"
   ]
  },
  {
   "cell_type": "code",
   "execution_count": 147,
   "metadata": {},
   "outputs": [
    {
     "data": {
      "text/html": [
       "<div>\n",
       "<style scoped>\n",
       "    .dataframe tbody tr th:only-of-type {\n",
       "        vertical-align: middle;\n",
       "    }\n",
       "\n",
       "    .dataframe tbody tr th {\n",
       "        vertical-align: top;\n",
       "    }\n",
       "\n",
       "    .dataframe thead th {\n",
       "        text-align: right;\n",
       "    }\n",
       "</style>\n",
       "<table border=\"1\" class=\"dataframe\">\n",
       "  <thead>\n",
       "    <tr style=\"text-align: right;\">\n",
       "      <th></th>\n",
       "      <th>Sub1</th>\n",
       "      <th>Sub2</th>\n",
       "      <th>Sub3</th>\n",
       "      <th>Sub4</th>\n",
       "    </tr>\n",
       "  </thead>\n",
       "  <tbody>\n",
       "    <tr>\n",
       "      <th>Yathisha</th>\n",
       "      <td>98</td>\n",
       "      <td>98</td>\n",
       "      <td>100</td>\n",
       "      <td>100</td>\n",
       "    </tr>\n",
       "    <tr>\n",
       "      <th>Sushma</th>\n",
       "      <td>97</td>\n",
       "      <td>99</td>\n",
       "      <td>90</td>\n",
       "      <td>6</td>\n",
       "    </tr>\n",
       "    <tr>\n",
       "      <th>Bhargavi</th>\n",
       "      <td>99</td>\n",
       "      <td>90</td>\n",
       "      <td>80</td>\n",
       "      <td>8</td>\n",
       "    </tr>\n",
       "    <tr>\n",
       "      <th>Bhavani</th>\n",
       "      <td>87</td>\n",
       "      <td>98</td>\n",
       "      <td>70</td>\n",
       "      <td>90</td>\n",
       "    </tr>\n",
       "    <tr>\n",
       "      <th>Jyothsna</th>\n",
       "      <td>88</td>\n",
       "      <td>80</td>\n",
       "      <td>60</td>\n",
       "      <td>3</td>\n",
       "    </tr>\n",
       "    <tr>\n",
       "      <th>Sahithi</th>\n",
       "      <td>83</td>\n",
       "      <td>87</td>\n",
       "      <td>50</td>\n",
       "      <td>4</td>\n",
       "    </tr>\n",
       "    <tr>\n",
       "      <th>Sweety</th>\n",
       "      <td>72</td>\n",
       "      <td>89</td>\n",
       "      <td>40</td>\n",
       "      <td>67</td>\n",
       "    </tr>\n",
       "    <tr>\n",
       "      <th>Harini</th>\n",
       "      <td>74</td>\n",
       "      <td>86</td>\n",
       "      <td>30</td>\n",
       "      <td>89</td>\n",
       "    </tr>\n",
       "    <tr>\n",
       "      <th>Paddu</th>\n",
       "      <td>71</td>\n",
       "      <td>67</td>\n",
       "      <td>20</td>\n",
       "      <td>50</td>\n",
       "    </tr>\n",
       "    <tr>\n",
       "      <th>Varsham</th>\n",
       "      <td>65</td>\n",
       "      <td>76</td>\n",
       "      <td>10</td>\n",
       "      <td>20</td>\n",
       "    </tr>\n",
       "  </tbody>\n",
       "</table>\n",
       "</div>"
      ],
      "text/plain": [
       "          Sub1  Sub2  Sub3  Sub4\n",
       "Yathisha    98    98   100   100\n",
       "Sushma      97    99    90     6\n",
       "Bhargavi    99    90    80     8\n",
       "Bhavani     87    98    70    90\n",
       "Jyothsna    88    80    60     3\n",
       "Sahithi     83    87    50     4\n",
       "Sweety      72    89    40    67\n",
       "Harini      74    86    30    89\n",
       "Paddu       71    67    20    50\n",
       "Varsham     65    76    10    20"
      ]
     },
     "execution_count": 147,
     "metadata": {},
     "output_type": "execute_result"
    }
   ],
   "source": [
    "# how to drop columns\n",
    "marks.drop(columns='Sub5')"
   ]
  },
  {
   "cell_type": "code",
   "execution_count": 148,
   "metadata": {},
   "outputs": [
    {
     "data": {
      "text/html": [
       "<div>\n",
       "<style scoped>\n",
       "    .dataframe tbody tr th:only-of-type {\n",
       "        vertical-align: middle;\n",
       "    }\n",
       "\n",
       "    .dataframe tbody tr th {\n",
       "        vertical-align: top;\n",
       "    }\n",
       "\n",
       "    .dataframe thead th {\n",
       "        text-align: right;\n",
       "    }\n",
       "</style>\n",
       "<table border=\"1\" class=\"dataframe\">\n",
       "  <thead>\n",
       "    <tr style=\"text-align: right;\">\n",
       "      <th></th>\n",
       "      <th>Sub1</th>\n",
       "      <th>Sub2</th>\n",
       "      <th>Sub3</th>\n",
       "      <th>Sub4</th>\n",
       "      <th>Sub5</th>\n",
       "    </tr>\n",
       "  </thead>\n",
       "  <tbody>\n",
       "    <tr>\n",
       "      <th>Yathisha</th>\n",
       "      <td>98</td>\n",
       "      <td>98</td>\n",
       "      <td>100</td>\n",
       "      <td>100</td>\n",
       "      <td>99</td>\n",
       "    </tr>\n",
       "    <tr>\n",
       "      <th>Sushma</th>\n",
       "      <td>97</td>\n",
       "      <td>99</td>\n",
       "      <td>90</td>\n",
       "      <td>6</td>\n",
       "      <td>79</td>\n",
       "    </tr>\n",
       "    <tr>\n",
       "      <th>Bhargavi</th>\n",
       "      <td>99</td>\n",
       "      <td>90</td>\n",
       "      <td>80</td>\n",
       "      <td>8</td>\n",
       "      <td>69</td>\n",
       "    </tr>\n",
       "    <tr>\n",
       "      <th>Bhavani</th>\n",
       "      <td>87</td>\n",
       "      <td>98</td>\n",
       "      <td>70</td>\n",
       "      <td>90</td>\n",
       "      <td>59</td>\n",
       "    </tr>\n",
       "    <tr>\n",
       "      <th>Jyothsna</th>\n",
       "      <td>88</td>\n",
       "      <td>80</td>\n",
       "      <td>60</td>\n",
       "      <td>3</td>\n",
       "      <td>49</td>\n",
       "    </tr>\n",
       "    <tr>\n",
       "      <th>Sahithi</th>\n",
       "      <td>83</td>\n",
       "      <td>87</td>\n",
       "      <td>50</td>\n",
       "      <td>4</td>\n",
       "      <td>67</td>\n",
       "    </tr>\n",
       "    <tr>\n",
       "      <th>Sweety</th>\n",
       "      <td>72</td>\n",
       "      <td>89</td>\n",
       "      <td>40</td>\n",
       "      <td>67</td>\n",
       "      <td>89</td>\n",
       "    </tr>\n",
       "    <tr>\n",
       "      <th>Harini</th>\n",
       "      <td>74</td>\n",
       "      <td>86</td>\n",
       "      <td>30</td>\n",
       "      <td>89</td>\n",
       "      <td>88</td>\n",
       "    </tr>\n",
       "    <tr>\n",
       "      <th>Paddu</th>\n",
       "      <td>71</td>\n",
       "      <td>67</td>\n",
       "      <td>20</td>\n",
       "      <td>50</td>\n",
       "      <td>57</td>\n",
       "    </tr>\n",
       "    <tr>\n",
       "      <th>Varsham</th>\n",
       "      <td>65</td>\n",
       "      <td>76</td>\n",
       "      <td>10</td>\n",
       "      <td>20</td>\n",
       "      <td>35</td>\n",
       "    </tr>\n",
       "  </tbody>\n",
       "</table>\n",
       "</div>"
      ],
      "text/plain": [
       "          Sub1  Sub2  Sub3  Sub4  Sub5\n",
       "Yathisha    98    98   100   100    99\n",
       "Sushma      97    99    90     6    79\n",
       "Bhargavi    99    90    80     8    69\n",
       "Bhavani     87    98    70    90    59\n",
       "Jyothsna    88    80    60     3    49\n",
       "Sahithi     83    87    50     4    67\n",
       "Sweety      72    89    40    67    89\n",
       "Harini      74    86    30    89    88\n",
       "Paddu       71    67    20    50    57\n",
       "Varsham     65    76    10    20    35"
      ]
     },
     "execution_count": 148,
     "metadata": {},
     "output_type": "execute_result"
    }
   ],
   "source": [
    "marks"
   ]
  },
  {
   "cell_type": "code",
   "execution_count": 158,
   "metadata": {},
   "outputs": [
    {
     "ename": "KeyError",
     "evalue": "\"['Sub5'] not found in axis\"",
     "output_type": "error",
     "traceback": [
      "\u001b[1;31m---------------------------------------------------------------------------\u001b[0m",
      "\u001b[1;31mKeyError\u001b[0m                                  Traceback (most recent call last)",
      "\u001b[1;32m<ipython-input-158-8fbf2f239ca5>\u001b[0m in \u001b[0;36m<module>\u001b[1;34m\u001b[0m\n\u001b[1;32m----> 1\u001b[1;33m \u001b[0mmarks\u001b[0m\u001b[1;33m.\u001b[0m\u001b[0mdrop\u001b[0m\u001b[1;33m(\u001b[0m\u001b[0mcolumns\u001b[0m \u001b[1;33m=\u001b[0m\u001b[1;34m'Sub5'\u001b[0m\u001b[1;33m,\u001b[0m\u001b[0maxis\u001b[0m\u001b[1;33m=\u001b[0m\u001b[1;36m1\u001b[0m\u001b[1;33m,\u001b[0m\u001b[0minplace\u001b[0m\u001b[1;33m=\u001b[0m\u001b[1;32mTrue\u001b[0m\u001b[1;33m)\u001b[0m\u001b[1;33m\u001b[0m\u001b[1;33m\u001b[0m\u001b[0m\n\u001b[0m",
      "\u001b[1;32m~\\anaconda3\\lib\\site-packages\\pandas\\core\\frame.py\u001b[0m in \u001b[0;36mdrop\u001b[1;34m(self, labels, axis, index, columns, level, inplace, errors)\u001b[0m\n\u001b[0;32m   4161\u001b[0m                 \u001b[0mweight\u001b[0m  \u001b[1;36m1.0\u001b[0m     \u001b[1;36m0.8\u001b[0m\u001b[1;33m\u001b[0m\u001b[1;33m\u001b[0m\u001b[0m\n\u001b[0;32m   4162\u001b[0m         \"\"\"\n\u001b[1;32m-> 4163\u001b[1;33m         return super().drop(\n\u001b[0m\u001b[0;32m   4164\u001b[0m             \u001b[0mlabels\u001b[0m\u001b[1;33m=\u001b[0m\u001b[0mlabels\u001b[0m\u001b[1;33m,\u001b[0m\u001b[1;33m\u001b[0m\u001b[1;33m\u001b[0m\u001b[0m\n\u001b[0;32m   4165\u001b[0m             \u001b[0maxis\u001b[0m\u001b[1;33m=\u001b[0m\u001b[0maxis\u001b[0m\u001b[1;33m,\u001b[0m\u001b[1;33m\u001b[0m\u001b[1;33m\u001b[0m\u001b[0m\n",
      "\u001b[1;32m~\\anaconda3\\lib\\site-packages\\pandas\\core\\generic.py\u001b[0m in \u001b[0;36mdrop\u001b[1;34m(self, labels, axis, index, columns, level, inplace, errors)\u001b[0m\n\u001b[0;32m   3885\u001b[0m         \u001b[1;32mfor\u001b[0m \u001b[0maxis\u001b[0m\u001b[1;33m,\u001b[0m \u001b[0mlabels\u001b[0m \u001b[1;32min\u001b[0m \u001b[0maxes\u001b[0m\u001b[1;33m.\u001b[0m\u001b[0mitems\u001b[0m\u001b[1;33m(\u001b[0m\u001b[1;33m)\u001b[0m\u001b[1;33m:\u001b[0m\u001b[1;33m\u001b[0m\u001b[1;33m\u001b[0m\u001b[0m\n\u001b[0;32m   3886\u001b[0m             \u001b[1;32mif\u001b[0m \u001b[0mlabels\u001b[0m \u001b[1;32mis\u001b[0m \u001b[1;32mnot\u001b[0m \u001b[1;32mNone\u001b[0m\u001b[1;33m:\u001b[0m\u001b[1;33m\u001b[0m\u001b[1;33m\u001b[0m\u001b[0m\n\u001b[1;32m-> 3887\u001b[1;33m                 \u001b[0mobj\u001b[0m \u001b[1;33m=\u001b[0m \u001b[0mobj\u001b[0m\u001b[1;33m.\u001b[0m\u001b[0m_drop_axis\u001b[0m\u001b[1;33m(\u001b[0m\u001b[0mlabels\u001b[0m\u001b[1;33m,\u001b[0m \u001b[0maxis\u001b[0m\u001b[1;33m,\u001b[0m \u001b[0mlevel\u001b[0m\u001b[1;33m=\u001b[0m\u001b[0mlevel\u001b[0m\u001b[1;33m,\u001b[0m \u001b[0merrors\u001b[0m\u001b[1;33m=\u001b[0m\u001b[0merrors\u001b[0m\u001b[1;33m)\u001b[0m\u001b[1;33m\u001b[0m\u001b[1;33m\u001b[0m\u001b[0m\n\u001b[0m\u001b[0;32m   3888\u001b[0m \u001b[1;33m\u001b[0m\u001b[0m\n\u001b[0;32m   3889\u001b[0m         \u001b[1;32mif\u001b[0m \u001b[0minplace\u001b[0m\u001b[1;33m:\u001b[0m\u001b[1;33m\u001b[0m\u001b[1;33m\u001b[0m\u001b[0m\n",
      "\u001b[1;32m~\\anaconda3\\lib\\site-packages\\pandas\\core\\generic.py\u001b[0m in \u001b[0;36m_drop_axis\u001b[1;34m(self, labels, axis, level, errors)\u001b[0m\n\u001b[0;32m   3919\u001b[0m                 \u001b[0mnew_axis\u001b[0m \u001b[1;33m=\u001b[0m \u001b[0maxis\u001b[0m\u001b[1;33m.\u001b[0m\u001b[0mdrop\u001b[0m\u001b[1;33m(\u001b[0m\u001b[0mlabels\u001b[0m\u001b[1;33m,\u001b[0m \u001b[0mlevel\u001b[0m\u001b[1;33m=\u001b[0m\u001b[0mlevel\u001b[0m\u001b[1;33m,\u001b[0m \u001b[0merrors\u001b[0m\u001b[1;33m=\u001b[0m\u001b[0merrors\u001b[0m\u001b[1;33m)\u001b[0m\u001b[1;33m\u001b[0m\u001b[1;33m\u001b[0m\u001b[0m\n\u001b[0;32m   3920\u001b[0m             \u001b[1;32melse\u001b[0m\u001b[1;33m:\u001b[0m\u001b[1;33m\u001b[0m\u001b[1;33m\u001b[0m\u001b[0m\n\u001b[1;32m-> 3921\u001b[1;33m                 \u001b[0mnew_axis\u001b[0m \u001b[1;33m=\u001b[0m \u001b[0maxis\u001b[0m\u001b[1;33m.\u001b[0m\u001b[0mdrop\u001b[0m\u001b[1;33m(\u001b[0m\u001b[0mlabels\u001b[0m\u001b[1;33m,\u001b[0m \u001b[0merrors\u001b[0m\u001b[1;33m=\u001b[0m\u001b[0merrors\u001b[0m\u001b[1;33m)\u001b[0m\u001b[1;33m\u001b[0m\u001b[1;33m\u001b[0m\u001b[0m\n\u001b[0m\u001b[0;32m   3922\u001b[0m             \u001b[0mresult\u001b[0m \u001b[1;33m=\u001b[0m \u001b[0mself\u001b[0m\u001b[1;33m.\u001b[0m\u001b[0mreindex\u001b[0m\u001b[1;33m(\u001b[0m\u001b[1;33m**\u001b[0m\u001b[1;33m{\u001b[0m\u001b[0maxis_name\u001b[0m\u001b[1;33m:\u001b[0m \u001b[0mnew_axis\u001b[0m\u001b[1;33m}\u001b[0m\u001b[1;33m)\u001b[0m\u001b[1;33m\u001b[0m\u001b[1;33m\u001b[0m\u001b[0m\n\u001b[0;32m   3923\u001b[0m \u001b[1;33m\u001b[0m\u001b[0m\n",
      "\u001b[1;32m~\\anaconda3\\lib\\site-packages\\pandas\\core\\indexes\\base.py\u001b[0m in \u001b[0;36mdrop\u001b[1;34m(self, labels, errors)\u001b[0m\n\u001b[0;32m   5280\u001b[0m         \u001b[1;32mif\u001b[0m \u001b[0mmask\u001b[0m\u001b[1;33m.\u001b[0m\u001b[0many\u001b[0m\u001b[1;33m(\u001b[0m\u001b[1;33m)\u001b[0m\u001b[1;33m:\u001b[0m\u001b[1;33m\u001b[0m\u001b[1;33m\u001b[0m\u001b[0m\n\u001b[0;32m   5281\u001b[0m             \u001b[1;32mif\u001b[0m \u001b[0merrors\u001b[0m \u001b[1;33m!=\u001b[0m \u001b[1;34m\"ignore\"\u001b[0m\u001b[1;33m:\u001b[0m\u001b[1;33m\u001b[0m\u001b[1;33m\u001b[0m\u001b[0m\n\u001b[1;32m-> 5282\u001b[1;33m                 \u001b[1;32mraise\u001b[0m \u001b[0mKeyError\u001b[0m\u001b[1;33m(\u001b[0m\u001b[1;34mf\"{labels[mask]} not found in axis\"\u001b[0m\u001b[1;33m)\u001b[0m\u001b[1;33m\u001b[0m\u001b[1;33m\u001b[0m\u001b[0m\n\u001b[0m\u001b[0;32m   5283\u001b[0m             \u001b[0mindexer\u001b[0m \u001b[1;33m=\u001b[0m \u001b[0mindexer\u001b[0m\u001b[1;33m[\u001b[0m\u001b[1;33m~\u001b[0m\u001b[0mmask\u001b[0m\u001b[1;33m]\u001b[0m\u001b[1;33m\u001b[0m\u001b[1;33m\u001b[0m\u001b[0m\n\u001b[0;32m   5284\u001b[0m         \u001b[1;32mreturn\u001b[0m \u001b[0mself\u001b[0m\u001b[1;33m.\u001b[0m\u001b[0mdelete\u001b[0m\u001b[1;33m(\u001b[0m\u001b[0mindexer\u001b[0m\u001b[1;33m)\u001b[0m\u001b[1;33m\u001b[0m\u001b[1;33m\u001b[0m\u001b[0m\n",
      "\u001b[1;31mKeyError\u001b[0m: \"['Sub5'] not found in axis\""
     ]
    }
   ],
   "source": [
    "marks.drop(columns ='Sub5',axis=1,inplace=True)"
   ]
  },
  {
   "cell_type": "code",
   "execution_count": 160,
   "metadata": {},
   "outputs": [
    {
     "data": {
      "text/html": [
       "<div>\n",
       "<style scoped>\n",
       "    .dataframe tbody tr th:only-of-type {\n",
       "        vertical-align: middle;\n",
       "    }\n",
       "\n",
       "    .dataframe tbody tr th {\n",
       "        vertical-align: top;\n",
       "    }\n",
       "\n",
       "    .dataframe thead th {\n",
       "        text-align: right;\n",
       "    }\n",
       "</style>\n",
       "<table border=\"1\" class=\"dataframe\">\n",
       "  <thead>\n",
       "    <tr style=\"text-align: right;\">\n",
       "      <th></th>\n",
       "      <th>Sub1</th>\n",
       "      <th>Sub2</th>\n",
       "      <th>Sub3</th>\n",
       "      <th>Sub4</th>\n",
       "    </tr>\n",
       "  </thead>\n",
       "  <tbody>\n",
       "    <tr>\n",
       "      <th>Yathisha</th>\n",
       "      <td>98</td>\n",
       "      <td>98</td>\n",
       "      <td>100</td>\n",
       "      <td>100</td>\n",
       "    </tr>\n",
       "    <tr>\n",
       "      <th>Sushma</th>\n",
       "      <td>97</td>\n",
       "      <td>99</td>\n",
       "      <td>90</td>\n",
       "      <td>6</td>\n",
       "    </tr>\n",
       "    <tr>\n",
       "      <th>Bhargavi</th>\n",
       "      <td>99</td>\n",
       "      <td>90</td>\n",
       "      <td>80</td>\n",
       "      <td>8</td>\n",
       "    </tr>\n",
       "    <tr>\n",
       "      <th>Bhavani</th>\n",
       "      <td>87</td>\n",
       "      <td>98</td>\n",
       "      <td>70</td>\n",
       "      <td>90</td>\n",
       "    </tr>\n",
       "    <tr>\n",
       "      <th>Jyothsna</th>\n",
       "      <td>88</td>\n",
       "      <td>80</td>\n",
       "      <td>60</td>\n",
       "      <td>3</td>\n",
       "    </tr>\n",
       "    <tr>\n",
       "      <th>Sahithi</th>\n",
       "      <td>83</td>\n",
       "      <td>87</td>\n",
       "      <td>50</td>\n",
       "      <td>4</td>\n",
       "    </tr>\n",
       "    <tr>\n",
       "      <th>Sweety</th>\n",
       "      <td>72</td>\n",
       "      <td>89</td>\n",
       "      <td>40</td>\n",
       "      <td>67</td>\n",
       "    </tr>\n",
       "    <tr>\n",
       "      <th>Harini</th>\n",
       "      <td>74</td>\n",
       "      <td>86</td>\n",
       "      <td>30</td>\n",
       "      <td>89</td>\n",
       "    </tr>\n",
       "    <tr>\n",
       "      <th>Paddu</th>\n",
       "      <td>71</td>\n",
       "      <td>67</td>\n",
       "      <td>20</td>\n",
       "      <td>50</td>\n",
       "    </tr>\n",
       "    <tr>\n",
       "      <th>Varsham</th>\n",
       "      <td>65</td>\n",
       "      <td>76</td>\n",
       "      <td>10</td>\n",
       "      <td>20</td>\n",
       "    </tr>\n",
       "  </tbody>\n",
       "</table>\n",
       "</div>"
      ],
      "text/plain": [
       "          Sub1  Sub2  Sub3  Sub4\n",
       "Yathisha    98    98   100   100\n",
       "Sushma      97    99    90     6\n",
       "Bhargavi    99    90    80     8\n",
       "Bhavani     87    98    70    90\n",
       "Jyothsna    88    80    60     3\n",
       "Sahithi     83    87    50     4\n",
       "Sweety      72    89    40    67\n",
       "Harini      74    86    30    89\n",
       "Paddu       71    67    20    50\n",
       "Varsham     65    76    10    20"
      ]
     },
     "execution_count": 160,
     "metadata": {},
     "output_type": "execute_result"
    }
   ],
   "source": [
    "marks"
   ]
  },
  {
   "cell_type": "code",
   "execution_count": 161,
   "metadata": {},
   "outputs": [
    {
     "data": {
      "text/html": [
       "<div>\n",
       "<style scoped>\n",
       "    .dataframe tbody tr th:only-of-type {\n",
       "        vertical-align: middle;\n",
       "    }\n",
       "\n",
       "    .dataframe tbody tr th {\n",
       "        vertical-align: top;\n",
       "    }\n",
       "\n",
       "    .dataframe thead th {\n",
       "        text-align: right;\n",
       "    }\n",
       "</style>\n",
       "<table border=\"1\" class=\"dataframe\">\n",
       "  <thead>\n",
       "    <tr style=\"text-align: right;\">\n",
       "      <th></th>\n",
       "      <th>Sub1</th>\n",
       "      <th>Sub2</th>\n",
       "      <th>Sub3</th>\n",
       "      <th>Sub4</th>\n",
       "    </tr>\n",
       "  </thead>\n",
       "  <tbody>\n",
       "    <tr>\n",
       "      <th>Yathisha</th>\n",
       "      <td>98</td>\n",
       "      <td>98</td>\n",
       "      <td>100</td>\n",
       "      <td>100</td>\n",
       "    </tr>\n",
       "    <tr>\n",
       "      <th>Sushma</th>\n",
       "      <td>97</td>\n",
       "      <td>99</td>\n",
       "      <td>90</td>\n",
       "      <td>6</td>\n",
       "    </tr>\n",
       "    <tr>\n",
       "      <th>Bhargavi</th>\n",
       "      <td>99</td>\n",
       "      <td>90</td>\n",
       "      <td>80</td>\n",
       "      <td>8</td>\n",
       "    </tr>\n",
       "    <tr>\n",
       "      <th>Bhavani</th>\n",
       "      <td>87</td>\n",
       "      <td>98</td>\n",
       "      <td>70</td>\n",
       "      <td>90</td>\n",
       "    </tr>\n",
       "    <tr>\n",
       "      <th>Jyothsna</th>\n",
       "      <td>88</td>\n",
       "      <td>80</td>\n",
       "      <td>60</td>\n",
       "      <td>3</td>\n",
       "    </tr>\n",
       "    <tr>\n",
       "      <th>Sahithi</th>\n",
       "      <td>83</td>\n",
       "      <td>87</td>\n",
       "      <td>50</td>\n",
       "      <td>4</td>\n",
       "    </tr>\n",
       "    <tr>\n",
       "      <th>Sweety</th>\n",
       "      <td>72</td>\n",
       "      <td>89</td>\n",
       "      <td>40</td>\n",
       "      <td>67</td>\n",
       "    </tr>\n",
       "    <tr>\n",
       "      <th>Harini</th>\n",
       "      <td>74</td>\n",
       "      <td>86</td>\n",
       "      <td>30</td>\n",
       "      <td>89</td>\n",
       "    </tr>\n",
       "    <tr>\n",
       "      <th>Paddu</th>\n",
       "      <td>71</td>\n",
       "      <td>67</td>\n",
       "      <td>20</td>\n",
       "      <td>50</td>\n",
       "    </tr>\n",
       "    <tr>\n",
       "      <th>Varsham</th>\n",
       "      <td>65</td>\n",
       "      <td>76</td>\n",
       "      <td>10</td>\n",
       "      <td>20</td>\n",
       "    </tr>\n",
       "  </tbody>\n",
       "</table>\n",
       "</div>"
      ],
      "text/plain": [
       "          Sub1  Sub2  Sub3  Sub4\n",
       "Yathisha    98    98   100   100\n",
       "Sushma      97    99    90     6\n",
       "Bhargavi    99    90    80     8\n",
       "Bhavani     87    98    70    90\n",
       "Jyothsna    88    80    60     3\n",
       "Sahithi     83    87    50     4\n",
       "Sweety      72    89    40    67\n",
       "Harini      74    86    30    89\n",
       "Paddu       71    67    20    50\n",
       "Varsham     65    76    10    20"
      ]
     },
     "execution_count": 161,
     "metadata": {},
     "output_type": "execute_result"
    }
   ],
   "source": [
    "marks"
   ]
  },
  {
   "cell_type": "code",
   "execution_count": 162,
   "metadata": {},
   "outputs": [],
   "source": [
    "marks.drop('Sweety',inplace=True)"
   ]
  },
  {
   "cell_type": "code",
   "execution_count": 163,
   "metadata": {},
   "outputs": [
    {
     "data": {
      "text/html": [
       "<div>\n",
       "<style scoped>\n",
       "    .dataframe tbody tr th:only-of-type {\n",
       "        vertical-align: middle;\n",
       "    }\n",
       "\n",
       "    .dataframe tbody tr th {\n",
       "        vertical-align: top;\n",
       "    }\n",
       "\n",
       "    .dataframe thead th {\n",
       "        text-align: right;\n",
       "    }\n",
       "</style>\n",
       "<table border=\"1\" class=\"dataframe\">\n",
       "  <thead>\n",
       "    <tr style=\"text-align: right;\">\n",
       "      <th></th>\n",
       "      <th>Sub1</th>\n",
       "      <th>Sub2</th>\n",
       "      <th>Sub3</th>\n",
       "      <th>Sub4</th>\n",
       "    </tr>\n",
       "  </thead>\n",
       "  <tbody>\n",
       "    <tr>\n",
       "      <th>Yathisha</th>\n",
       "      <td>98</td>\n",
       "      <td>98</td>\n",
       "      <td>100</td>\n",
       "      <td>100</td>\n",
       "    </tr>\n",
       "    <tr>\n",
       "      <th>Sushma</th>\n",
       "      <td>97</td>\n",
       "      <td>99</td>\n",
       "      <td>90</td>\n",
       "      <td>6</td>\n",
       "    </tr>\n",
       "    <tr>\n",
       "      <th>Bhargavi</th>\n",
       "      <td>99</td>\n",
       "      <td>90</td>\n",
       "      <td>80</td>\n",
       "      <td>8</td>\n",
       "    </tr>\n",
       "    <tr>\n",
       "      <th>Bhavani</th>\n",
       "      <td>87</td>\n",
       "      <td>98</td>\n",
       "      <td>70</td>\n",
       "      <td>90</td>\n",
       "    </tr>\n",
       "    <tr>\n",
       "      <th>Jyothsna</th>\n",
       "      <td>88</td>\n",
       "      <td>80</td>\n",
       "      <td>60</td>\n",
       "      <td>3</td>\n",
       "    </tr>\n",
       "    <tr>\n",
       "      <th>Sahithi</th>\n",
       "      <td>83</td>\n",
       "      <td>87</td>\n",
       "      <td>50</td>\n",
       "      <td>4</td>\n",
       "    </tr>\n",
       "    <tr>\n",
       "      <th>Harini</th>\n",
       "      <td>74</td>\n",
       "      <td>86</td>\n",
       "      <td>30</td>\n",
       "      <td>89</td>\n",
       "    </tr>\n",
       "    <tr>\n",
       "      <th>Paddu</th>\n",
       "      <td>71</td>\n",
       "      <td>67</td>\n",
       "      <td>20</td>\n",
       "      <td>50</td>\n",
       "    </tr>\n",
       "    <tr>\n",
       "      <th>Varsham</th>\n",
       "      <td>65</td>\n",
       "      <td>76</td>\n",
       "      <td>10</td>\n",
       "      <td>20</td>\n",
       "    </tr>\n",
       "  </tbody>\n",
       "</table>\n",
       "</div>"
      ],
      "text/plain": [
       "          Sub1  Sub2  Sub3  Sub4\n",
       "Yathisha    98    98   100   100\n",
       "Sushma      97    99    90     6\n",
       "Bhargavi    99    90    80     8\n",
       "Bhavani     87    98    70    90\n",
       "Jyothsna    88    80    60     3\n",
       "Sahithi     83    87    50     4\n",
       "Harini      74    86    30    89\n",
       "Paddu       71    67    20    50\n",
       "Varsham     65    76    10    20"
      ]
     },
     "execution_count": 163,
     "metadata": {},
     "output_type": "execute_result"
    }
   ],
   "source": [
    "marks"
   ]
  },
  {
   "cell_type": "code",
   "execution_count": 165,
   "metadata": {},
   "outputs": [],
   "source": [
    "marks.iloc[6][1]=55"
   ]
  },
  {
   "cell_type": "code",
   "execution_count": 166,
   "metadata": {},
   "outputs": [
    {
     "data": {
      "text/html": [
       "<div>\n",
       "<style scoped>\n",
       "    .dataframe tbody tr th:only-of-type {\n",
       "        vertical-align: middle;\n",
       "    }\n",
       "\n",
       "    .dataframe tbody tr th {\n",
       "        vertical-align: top;\n",
       "    }\n",
       "\n",
       "    .dataframe thead th {\n",
       "        text-align: right;\n",
       "    }\n",
       "</style>\n",
       "<table border=\"1\" class=\"dataframe\">\n",
       "  <thead>\n",
       "    <tr style=\"text-align: right;\">\n",
       "      <th></th>\n",
       "      <th>Sub1</th>\n",
       "      <th>Sub2</th>\n",
       "      <th>Sub3</th>\n",
       "      <th>Sub4</th>\n",
       "    </tr>\n",
       "  </thead>\n",
       "  <tbody>\n",
       "    <tr>\n",
       "      <th>Yathisha</th>\n",
       "      <td>98</td>\n",
       "      <td>98</td>\n",
       "      <td>100</td>\n",
       "      <td>100</td>\n",
       "    </tr>\n",
       "    <tr>\n",
       "      <th>Sushma</th>\n",
       "      <td>97</td>\n",
       "      <td>99</td>\n",
       "      <td>90</td>\n",
       "      <td>6</td>\n",
       "    </tr>\n",
       "    <tr>\n",
       "      <th>Bhargavi</th>\n",
       "      <td>99</td>\n",
       "      <td>90</td>\n",
       "      <td>80</td>\n",
       "      <td>8</td>\n",
       "    </tr>\n",
       "    <tr>\n",
       "      <th>Bhavani</th>\n",
       "      <td>87</td>\n",
       "      <td>98</td>\n",
       "      <td>70</td>\n",
       "      <td>90</td>\n",
       "    </tr>\n",
       "    <tr>\n",
       "      <th>Jyothsna</th>\n",
       "      <td>88</td>\n",
       "      <td>80</td>\n",
       "      <td>60</td>\n",
       "      <td>3</td>\n",
       "    </tr>\n",
       "    <tr>\n",
       "      <th>Sahithi</th>\n",
       "      <td>83</td>\n",
       "      <td>87</td>\n",
       "      <td>50</td>\n",
       "      <td>4</td>\n",
       "    </tr>\n",
       "    <tr>\n",
       "      <th>Harini</th>\n",
       "      <td>74</td>\n",
       "      <td>55</td>\n",
       "      <td>30</td>\n",
       "      <td>89</td>\n",
       "    </tr>\n",
       "    <tr>\n",
       "      <th>Paddu</th>\n",
       "      <td>71</td>\n",
       "      <td>67</td>\n",
       "      <td>20</td>\n",
       "      <td>50</td>\n",
       "    </tr>\n",
       "    <tr>\n",
       "      <th>Varsham</th>\n",
       "      <td>65</td>\n",
       "      <td>76</td>\n",
       "      <td>10</td>\n",
       "      <td>20</td>\n",
       "    </tr>\n",
       "  </tbody>\n",
       "</table>\n",
       "</div>"
      ],
      "text/plain": [
       "          Sub1  Sub2  Sub3  Sub4\n",
       "Yathisha    98    98   100   100\n",
       "Sushma      97    99    90     6\n",
       "Bhargavi    99    90    80     8\n",
       "Bhavani     87    98    70    90\n",
       "Jyothsna    88    80    60     3\n",
       "Sahithi     83    87    50     4\n",
       "Harini      74    55    30    89\n",
       "Paddu       71    67    20    50\n",
       "Varsham     65    76    10    20"
      ]
     },
     "execution_count": 166,
     "metadata": {},
     "output_type": "execute_result"
    }
   ],
   "source": [
    "marks"
   ]
  },
  {
   "cell_type": "code",
   "execution_count": 170,
   "metadata": {},
   "outputs": [
    {
     "name": "stderr",
     "output_type": "stream",
     "text": [
      "<ipython-input-170-593c0bb131dd>:1: SettingWithCopyWarning: \n",
      "A value is trying to be set on a copy of a slice from a DataFrame.\n",
      "Try using .loc[row_indexer,col_indexer] = value instead\n",
      "\n",
      "See the caveats in the documentation: https://pandas.pydata.org/pandas-docs/stable/user_guide/indexing.html#returning-a-view-versus-a-copy\n",
      "  marks.iloc[0:8][2]=100\n"
     ]
    }
   ],
   "source": [
    "marks.iloc[0:8][2]=100"
   ]
  },
  {
   "cell_type": "code",
   "execution_count": 171,
   "metadata": {},
   "outputs": [
    {
     "data": {
      "text/html": [
       "<div>\n",
       "<style scoped>\n",
       "    .dataframe tbody tr th:only-of-type {\n",
       "        vertical-align: middle;\n",
       "    }\n",
       "\n",
       "    .dataframe tbody tr th {\n",
       "        vertical-align: top;\n",
       "    }\n",
       "\n",
       "    .dataframe thead th {\n",
       "        text-align: right;\n",
       "    }\n",
       "</style>\n",
       "<table border=\"1\" class=\"dataframe\">\n",
       "  <thead>\n",
       "    <tr style=\"text-align: right;\">\n",
       "      <th></th>\n",
       "      <th>Sub1</th>\n",
       "      <th>Sub2</th>\n",
       "      <th>Sub3</th>\n",
       "      <th>Sub4</th>\n",
       "    </tr>\n",
       "  </thead>\n",
       "  <tbody>\n",
       "    <tr>\n",
       "      <th>Yathisha</th>\n",
       "      <td>98</td>\n",
       "      <td>98</td>\n",
       "      <td>100</td>\n",
       "      <td>100</td>\n",
       "    </tr>\n",
       "    <tr>\n",
       "      <th>Sushma</th>\n",
       "      <td>97</td>\n",
       "      <td>99</td>\n",
       "      <td>90</td>\n",
       "      <td>6</td>\n",
       "    </tr>\n",
       "    <tr>\n",
       "      <th>Bhargavi</th>\n",
       "      <td>99</td>\n",
       "      <td>90</td>\n",
       "      <td>80</td>\n",
       "      <td>8</td>\n",
       "    </tr>\n",
       "    <tr>\n",
       "      <th>Bhavani</th>\n",
       "      <td>87</td>\n",
       "      <td>98</td>\n",
       "      <td>70</td>\n",
       "      <td>90</td>\n",
       "    </tr>\n",
       "    <tr>\n",
       "      <th>Jyothsna</th>\n",
       "      <td>88</td>\n",
       "      <td>80</td>\n",
       "      <td>60</td>\n",
       "      <td>3</td>\n",
       "    </tr>\n",
       "    <tr>\n",
       "      <th>Sahithi</th>\n",
       "      <td>83</td>\n",
       "      <td>87</td>\n",
       "      <td>50</td>\n",
       "      <td>4</td>\n",
       "    </tr>\n",
       "    <tr>\n",
       "      <th>Harini</th>\n",
       "      <td>74</td>\n",
       "      <td>55</td>\n",
       "      <td>30</td>\n",
       "      <td>89</td>\n",
       "    </tr>\n",
       "    <tr>\n",
       "      <th>Paddu</th>\n",
       "      <td>71</td>\n",
       "      <td>67</td>\n",
       "      <td>20</td>\n",
       "      <td>50</td>\n",
       "    </tr>\n",
       "    <tr>\n",
       "      <th>Varsham</th>\n",
       "      <td>65</td>\n",
       "      <td>76</td>\n",
       "      <td>10</td>\n",
       "      <td>20</td>\n",
       "    </tr>\n",
       "  </tbody>\n",
       "</table>\n",
       "</div>"
      ],
      "text/plain": [
       "          Sub1  Sub2  Sub3  Sub4\n",
       "Yathisha    98    98   100   100\n",
       "Sushma      97    99    90     6\n",
       "Bhargavi    99    90    80     8\n",
       "Bhavani     87    98    70    90\n",
       "Jyothsna    88    80    60     3\n",
       "Sahithi     83    87    50     4\n",
       "Harini      74    55    30    89\n",
       "Paddu       71    67    20    50\n",
       "Varsham     65    76    10    20"
      ]
     },
     "execution_count": 171,
     "metadata": {},
     "output_type": "execute_result"
    }
   ],
   "source": [
    "marks"
   ]
  },
  {
   "cell_type": "code",
   "execution_count": 172,
   "metadata": {},
   "outputs": [],
   "source": [
    "marks['Sub3']=100"
   ]
  },
  {
   "cell_type": "code",
   "execution_count": 173,
   "metadata": {},
   "outputs": [
    {
     "data": {
      "text/html": [
       "<div>\n",
       "<style scoped>\n",
       "    .dataframe tbody tr th:only-of-type {\n",
       "        vertical-align: middle;\n",
       "    }\n",
       "\n",
       "    .dataframe tbody tr th {\n",
       "        vertical-align: top;\n",
       "    }\n",
       "\n",
       "    .dataframe thead th {\n",
       "        text-align: right;\n",
       "    }\n",
       "</style>\n",
       "<table border=\"1\" class=\"dataframe\">\n",
       "  <thead>\n",
       "    <tr style=\"text-align: right;\">\n",
       "      <th></th>\n",
       "      <th>Sub1</th>\n",
       "      <th>Sub2</th>\n",
       "      <th>Sub3</th>\n",
       "      <th>Sub4</th>\n",
       "    </tr>\n",
       "  </thead>\n",
       "  <tbody>\n",
       "    <tr>\n",
       "      <th>Yathisha</th>\n",
       "      <td>98</td>\n",
       "      <td>98</td>\n",
       "      <td>100</td>\n",
       "      <td>100</td>\n",
       "    </tr>\n",
       "    <tr>\n",
       "      <th>Sushma</th>\n",
       "      <td>97</td>\n",
       "      <td>99</td>\n",
       "      <td>100</td>\n",
       "      <td>6</td>\n",
       "    </tr>\n",
       "    <tr>\n",
       "      <th>Bhargavi</th>\n",
       "      <td>99</td>\n",
       "      <td>90</td>\n",
       "      <td>100</td>\n",
       "      <td>8</td>\n",
       "    </tr>\n",
       "    <tr>\n",
       "      <th>Bhavani</th>\n",
       "      <td>87</td>\n",
       "      <td>98</td>\n",
       "      <td>100</td>\n",
       "      <td>90</td>\n",
       "    </tr>\n",
       "    <tr>\n",
       "      <th>Jyothsna</th>\n",
       "      <td>88</td>\n",
       "      <td>80</td>\n",
       "      <td>100</td>\n",
       "      <td>3</td>\n",
       "    </tr>\n",
       "    <tr>\n",
       "      <th>Sahithi</th>\n",
       "      <td>83</td>\n",
       "      <td>87</td>\n",
       "      <td>100</td>\n",
       "      <td>4</td>\n",
       "    </tr>\n",
       "    <tr>\n",
       "      <th>Harini</th>\n",
       "      <td>74</td>\n",
       "      <td>55</td>\n",
       "      <td>100</td>\n",
       "      <td>89</td>\n",
       "    </tr>\n",
       "    <tr>\n",
       "      <th>Paddu</th>\n",
       "      <td>71</td>\n",
       "      <td>67</td>\n",
       "      <td>100</td>\n",
       "      <td>50</td>\n",
       "    </tr>\n",
       "    <tr>\n",
       "      <th>Varsham</th>\n",
       "      <td>65</td>\n",
       "      <td>76</td>\n",
       "      <td>100</td>\n",
       "      <td>20</td>\n",
       "    </tr>\n",
       "  </tbody>\n",
       "</table>\n",
       "</div>"
      ],
      "text/plain": [
       "          Sub1  Sub2  Sub3  Sub4\n",
       "Yathisha    98    98   100   100\n",
       "Sushma      97    99   100     6\n",
       "Bhargavi    99    90   100     8\n",
       "Bhavani     87    98   100    90\n",
       "Jyothsna    88    80   100     3\n",
       "Sahithi     83    87   100     4\n",
       "Harini      74    55   100    89\n",
       "Paddu       71    67   100    50\n",
       "Varsham     65    76   100    20"
      ]
     },
     "execution_count": 173,
     "metadata": {},
     "output_type": "execute_result"
    }
   ],
   "source": [
    "marks"
   ]
  },
  {
   "cell_type": "code",
   "execution_count": 178,
   "metadata": {},
   "outputs": [
    {
     "name": "stderr",
     "output_type": "stream",
     "text": [
      "<ipython-input-178-df4f1447b0f0>:1: SettingWithCopyWarning: \n",
      "A value is trying to be set on a copy of a slice from a DataFrame.\n",
      "Try using .loc[row_indexer,col_indexer] = value instead\n",
      "\n",
      "See the caveats in the documentation: https://pandas.pydata.org/pandas-docs/stable/user_guide/indexing.html#returning-a-view-versus-a-copy\n",
      "  marks.iloc[1:][3]=0\n"
     ]
    }
   ],
   "source": [
    "marks.iloc[:][3]=0"
   ]
  },
  {
   "cell_type": "code",
   "execution_count": 175,
   "metadata": {},
   "outputs": [
    {
     "data": {
      "text/html": [
       "<div>\n",
       "<style scoped>\n",
       "    .dataframe tbody tr th:only-of-type {\n",
       "        vertical-align: middle;\n",
       "    }\n",
       "\n",
       "    .dataframe tbody tr th {\n",
       "        vertical-align: top;\n",
       "    }\n",
       "\n",
       "    .dataframe thead th {\n",
       "        text-align: right;\n",
       "    }\n",
       "</style>\n",
       "<table border=\"1\" class=\"dataframe\">\n",
       "  <thead>\n",
       "    <tr style=\"text-align: right;\">\n",
       "      <th></th>\n",
       "      <th>Sub1</th>\n",
       "      <th>Sub2</th>\n",
       "      <th>Sub3</th>\n",
       "      <th>Sub4</th>\n",
       "    </tr>\n",
       "  </thead>\n",
       "  <tbody>\n",
       "    <tr>\n",
       "      <th>Yathisha</th>\n",
       "      <td>98</td>\n",
       "      <td>98</td>\n",
       "      <td>100</td>\n",
       "      <td>100</td>\n",
       "    </tr>\n",
       "    <tr>\n",
       "      <th>Sushma</th>\n",
       "      <td>97</td>\n",
       "      <td>99</td>\n",
       "      <td>100</td>\n",
       "      <td>6</td>\n",
       "    </tr>\n",
       "    <tr>\n",
       "      <th>Bhargavi</th>\n",
       "      <td>99</td>\n",
       "      <td>90</td>\n",
       "      <td>100</td>\n",
       "      <td>8</td>\n",
       "    </tr>\n",
       "    <tr>\n",
       "      <th>Bhavani</th>\n",
       "      <td>87</td>\n",
       "      <td>98</td>\n",
       "      <td>100</td>\n",
       "      <td>90</td>\n",
       "    </tr>\n",
       "    <tr>\n",
       "      <th>Jyothsna</th>\n",
       "      <td>88</td>\n",
       "      <td>80</td>\n",
       "      <td>100</td>\n",
       "      <td>3</td>\n",
       "    </tr>\n",
       "    <tr>\n",
       "      <th>Sahithi</th>\n",
       "      <td>83</td>\n",
       "      <td>87</td>\n",
       "      <td>100</td>\n",
       "      <td>4</td>\n",
       "    </tr>\n",
       "    <tr>\n",
       "      <th>Harini</th>\n",
       "      <td>74</td>\n",
       "      <td>55</td>\n",
       "      <td>100</td>\n",
       "      <td>89</td>\n",
       "    </tr>\n",
       "    <tr>\n",
       "      <th>Paddu</th>\n",
       "      <td>71</td>\n",
       "      <td>67</td>\n",
       "      <td>100</td>\n",
       "      <td>50</td>\n",
       "    </tr>\n",
       "    <tr>\n",
       "      <th>Varsham</th>\n",
       "      <td>65</td>\n",
       "      <td>76</td>\n",
       "      <td>100</td>\n",
       "      <td>20</td>\n",
       "    </tr>\n",
       "  </tbody>\n",
       "</table>\n",
       "</div>"
      ],
      "text/plain": [
       "          Sub1  Sub2  Sub3  Sub4\n",
       "Yathisha    98    98   100   100\n",
       "Sushma      97    99   100     6\n",
       "Bhargavi    99    90   100     8\n",
       "Bhavani     87    98   100    90\n",
       "Jyothsna    88    80   100     3\n",
       "Sahithi     83    87   100     4\n",
       "Harini      74    55   100    89\n",
       "Paddu       71    67   100    50\n",
       "Varsham     65    76   100    20"
      ]
     },
     "execution_count": 175,
     "metadata": {},
     "output_type": "execute_result"
    }
   ],
   "source": [
    "marks"
   ]
  },
  {
   "cell_type": "code",
   "execution_count": 179,
   "metadata": {},
   "outputs": [],
   "source": [
    "import pandas as pd\n"
   ]
  },
  {
   "cell_type": "code",
   "execution_count": 182,
   "metadata": {},
   "outputs": [
    {
     "data": {
      "text/html": [
       "<div>\n",
       "<style scoped>\n",
       "    .dataframe tbody tr th:only-of-type {\n",
       "        vertical-align: middle;\n",
       "    }\n",
       "\n",
       "    .dataframe tbody tr th {\n",
       "        vertical-align: top;\n",
       "    }\n",
       "\n",
       "    .dataframe thead th {\n",
       "        text-align: right;\n",
       "    }\n",
       "</style>\n",
       "<table border=\"1\" class=\"dataframe\">\n",
       "  <thead>\n",
       "    <tr style=\"text-align: right;\">\n",
       "      <th></th>\n",
       "      <th>2001</th>\n",
       "      <th>2002</th>\n",
       "      <th>2003</th>\n",
       "      <th>2004</th>\n",
       "      <th>2005</th>\n",
       "      <th>2006</th>\n",
       "      <th>2007</th>\n",
       "      <th>2008</th>\n",
       "      <th>2009</th>\n",
       "      <th>2010</th>\n",
       "    </tr>\n",
       "  </thead>\n",
       "  <tbody>\n",
       "    <tr>\n",
       "      <th>0</th>\n",
       "      <td>91</td>\n",
       "      <td>91.5</td>\n",
       "      <td>90</td>\n",
       "      <td>95.0</td>\n",
       "      <td>92.0</td>\n",
       "      <td>96.8</td>\n",
       "      <td>97</td>\n",
       "      <td>92.5</td>\n",
       "      <td>94.3</td>\n",
       "      <td>99.7</td>\n",
       "    </tr>\n",
       "    <tr>\n",
       "      <th>1</th>\n",
       "      <td>120</td>\n",
       "      <td>121.9</td>\n",
       "      <td>125</td>\n",
       "      <td>130.5</td>\n",
       "      <td>133.7</td>\n",
       "      <td>131.0</td>\n",
       "      <td>145</td>\n",
       "      <td>140.0</td>\n",
       "      <td>141.0</td>\n",
       "      <td>144.6</td>\n",
       "    </tr>\n",
       "    <tr>\n",
       "      <th>2</th>\n",
       "      <td>91</td>\n",
       "      <td>91.5</td>\n",
       "      <td>90</td>\n",
       "      <td>95.0</td>\n",
       "      <td>92.0</td>\n",
       "      <td>96.8</td>\n",
       "      <td>97</td>\n",
       "      <td>92.5</td>\n",
       "      <td>94.3</td>\n",
       "      <td>99.7</td>\n",
       "    </tr>\n",
       "    <tr>\n",
       "      <th>3</th>\n",
       "      <td>120</td>\n",
       "      <td>121.9</td>\n",
       "      <td>125</td>\n",
       "      <td>130.5</td>\n",
       "      <td>133.7</td>\n",
       "      <td>131.0</td>\n",
       "      <td>145</td>\n",
       "      <td>140.0</td>\n",
       "      <td>141.0</td>\n",
       "      <td>144.6</td>\n",
       "    </tr>\n",
       "    <tr>\n",
       "      <th>4</th>\n",
       "      <td>120</td>\n",
       "      <td>121.9</td>\n",
       "      <td>125</td>\n",
       "      <td>130.5</td>\n",
       "      <td>133.7</td>\n",
       "      <td>131.0</td>\n",
       "      <td>145</td>\n",
       "      <td>140.0</td>\n",
       "      <td>141.0</td>\n",
       "      <td>144.6</td>\n",
       "    </tr>\n",
       "    <tr>\n",
       "      <th>5</th>\n",
       "      <td>120</td>\n",
       "      <td>121.9</td>\n",
       "      <td>125</td>\n",
       "      <td>130.5</td>\n",
       "      <td>133.7</td>\n",
       "      <td>131.0</td>\n",
       "      <td>145</td>\n",
       "      <td>140.0</td>\n",
       "      <td>141.0</td>\n",
       "      <td>144.6</td>\n",
       "    </tr>\n",
       "    <tr>\n",
       "      <th>6</th>\n",
       "      <td>120</td>\n",
       "      <td>121.9</td>\n",
       "      <td>125</td>\n",
       "      <td>130.5</td>\n",
       "      <td>133.7</td>\n",
       "      <td>131.0</td>\n",
       "      <td>145</td>\n",
       "      <td>140.0</td>\n",
       "      <td>141.0</td>\n",
       "      <td>144.6</td>\n",
       "    </tr>\n",
       "    <tr>\n",
       "      <th>7</th>\n",
       "      <td>120</td>\n",
       "      <td>121.9</td>\n",
       "      <td>125</td>\n",
       "      <td>130.5</td>\n",
       "      <td>133.7</td>\n",
       "      <td>131.0</td>\n",
       "      <td>145</td>\n",
       "      <td>140.0</td>\n",
       "      <td>141.0</td>\n",
       "      <td>144.6</td>\n",
       "    </tr>\n",
       "    <tr>\n",
       "      <th>8</th>\n",
       "      <td>91</td>\n",
       "      <td>91.5</td>\n",
       "      <td>90</td>\n",
       "      <td>95.0</td>\n",
       "      <td>92.0</td>\n",
       "      <td>96.8</td>\n",
       "      <td>97</td>\n",
       "      <td>92.5</td>\n",
       "      <td>94.3</td>\n",
       "      <td>99.7</td>\n",
       "    </tr>\n",
       "    <tr>\n",
       "      <th>9</th>\n",
       "      <td>120</td>\n",
       "      <td>121.9</td>\n",
       "      <td>125</td>\n",
       "      <td>130.5</td>\n",
       "      <td>133.7</td>\n",
       "      <td>131.0</td>\n",
       "      <td>145</td>\n",
       "      <td>140.0</td>\n",
       "      <td>141.0</td>\n",
       "      <td>144.6</td>\n",
       "    </tr>\n",
       "    <tr>\n",
       "      <th>10</th>\n",
       "      <td>120</td>\n",
       "      <td>121.9</td>\n",
       "      <td>125</td>\n",
       "      <td>130.5</td>\n",
       "      <td>133.7</td>\n",
       "      <td>131.0</td>\n",
       "      <td>145</td>\n",
       "      <td>140.0</td>\n",
       "      <td>141.0</td>\n",
       "      <td>144.6</td>\n",
       "    </tr>\n",
       "    <tr>\n",
       "      <th>11</th>\n",
       "      <td>120</td>\n",
       "      <td>121.9</td>\n",
       "      <td>125</td>\n",
       "      <td>130.5</td>\n",
       "      <td>133.7</td>\n",
       "      <td>131.0</td>\n",
       "      <td>145</td>\n",
       "      <td>140.0</td>\n",
       "      <td>141.0</td>\n",
       "      <td>144.6</td>\n",
       "    </tr>\n",
       "    <tr>\n",
       "      <th>12</th>\n",
       "      <td>91</td>\n",
       "      <td>91.5</td>\n",
       "      <td>90</td>\n",
       "      <td>95.0</td>\n",
       "      <td>92.0</td>\n",
       "      <td>96.8</td>\n",
       "      <td>97</td>\n",
       "      <td>92.5</td>\n",
       "      <td>94.3</td>\n",
       "      <td>99.7</td>\n",
       "    </tr>\n",
       "    <tr>\n",
       "      <th>13</th>\n",
       "      <td>120</td>\n",
       "      <td>121.9</td>\n",
       "      <td>125</td>\n",
       "      <td>130.5</td>\n",
       "      <td>133.7</td>\n",
       "      <td>131.0</td>\n",
       "      <td>145</td>\n",
       "      <td>140.0</td>\n",
       "      <td>141.0</td>\n",
       "      <td>144.6</td>\n",
       "    </tr>\n",
       "    <tr>\n",
       "      <th>14</th>\n",
       "      <td>120</td>\n",
       "      <td>121.9</td>\n",
       "      <td>125</td>\n",
       "      <td>130.5</td>\n",
       "      <td>133.7</td>\n",
       "      <td>131.0</td>\n",
       "      <td>145</td>\n",
       "      <td>140.0</td>\n",
       "      <td>141.0</td>\n",
       "      <td>144.6</td>\n",
       "    </tr>\n",
       "    <tr>\n",
       "      <th>15</th>\n",
       "      <td>120</td>\n",
       "      <td>121.9</td>\n",
       "      <td>125</td>\n",
       "      <td>130.5</td>\n",
       "      <td>133.7</td>\n",
       "      <td>131.0</td>\n",
       "      <td>145</td>\n",
       "      <td>140.0</td>\n",
       "      <td>141.0</td>\n",
       "      <td>144.6</td>\n",
       "    </tr>\n",
       "    <tr>\n",
       "      <th>16</th>\n",
       "      <td>91</td>\n",
       "      <td>91.5</td>\n",
       "      <td>90</td>\n",
       "      <td>95.0</td>\n",
       "      <td>92.0</td>\n",
       "      <td>96.8</td>\n",
       "      <td>97</td>\n",
       "      <td>92.5</td>\n",
       "      <td>94.3</td>\n",
       "      <td>99.7</td>\n",
       "    </tr>\n",
       "    <tr>\n",
       "      <th>17</th>\n",
       "      <td>120</td>\n",
       "      <td>121.9</td>\n",
       "      <td>125</td>\n",
       "      <td>130.5</td>\n",
       "      <td>133.7</td>\n",
       "      <td>131.0</td>\n",
       "      <td>145</td>\n",
       "      <td>140.0</td>\n",
       "      <td>141.0</td>\n",
       "      <td>144.6</td>\n",
       "    </tr>\n",
       "    <tr>\n",
       "      <th>18</th>\n",
       "      <td>91</td>\n",
       "      <td>91.5</td>\n",
       "      <td>90</td>\n",
       "      <td>95.0</td>\n",
       "      <td>92.0</td>\n",
       "      <td>96.8</td>\n",
       "      <td>97</td>\n",
       "      <td>92.5</td>\n",
       "      <td>94.3</td>\n",
       "      <td>99.7</td>\n",
       "    </tr>\n",
       "    <tr>\n",
       "      <th>19</th>\n",
       "      <td>120</td>\n",
       "      <td>121.9</td>\n",
       "      <td>125</td>\n",
       "      <td>130.5</td>\n",
       "      <td>133.7</td>\n",
       "      <td>131.0</td>\n",
       "      <td>145</td>\n",
       "      <td>140.0</td>\n",
       "      <td>141.0</td>\n",
       "      <td>144.6</td>\n",
       "    </tr>\n",
       "    <tr>\n",
       "      <th>20</th>\n",
       "      <td>120</td>\n",
       "      <td>121.9</td>\n",
       "      <td>125</td>\n",
       "      <td>130.5</td>\n",
       "      <td>133.7</td>\n",
       "      <td>131.0</td>\n",
       "      <td>145</td>\n",
       "      <td>140.0</td>\n",
       "      <td>141.0</td>\n",
       "      <td>144.6</td>\n",
       "    </tr>\n",
       "    <tr>\n",
       "      <th>21</th>\n",
       "      <td>91</td>\n",
       "      <td>91.5</td>\n",
       "      <td>90</td>\n",
       "      <td>95.0</td>\n",
       "      <td>92.0</td>\n",
       "      <td>96.8</td>\n",
       "      <td>97</td>\n",
       "      <td>92.5</td>\n",
       "      <td>94.3</td>\n",
       "      <td>99.7</td>\n",
       "    </tr>\n",
       "  </tbody>\n",
       "</table>\n",
       "</div>"
      ],
      "text/plain": [
       "    2001   2002  2003   2004   2005   2006  2007   2008   2009   2010\n",
       "0     91   91.5    90   95.0   92.0   96.8    97   92.5   94.3   99.7\n",
       "1    120  121.9   125  130.5  133.7  131.0   145  140.0  141.0  144.6\n",
       "2     91   91.5    90   95.0   92.0   96.8    97   92.5   94.3   99.7\n",
       "3    120  121.9   125  130.5  133.7  131.0   145  140.0  141.0  144.6\n",
       "4    120  121.9   125  130.5  133.7  131.0   145  140.0  141.0  144.6\n",
       "5    120  121.9   125  130.5  133.7  131.0   145  140.0  141.0  144.6\n",
       "6    120  121.9   125  130.5  133.7  131.0   145  140.0  141.0  144.6\n",
       "7    120  121.9   125  130.5  133.7  131.0   145  140.0  141.0  144.6\n",
       "8     91   91.5    90   95.0   92.0   96.8    97   92.5   94.3   99.7\n",
       "9    120  121.9   125  130.5  133.7  131.0   145  140.0  141.0  144.6\n",
       "10   120  121.9   125  130.5  133.7  131.0   145  140.0  141.0  144.6\n",
       "11   120  121.9   125  130.5  133.7  131.0   145  140.0  141.0  144.6\n",
       "12    91   91.5    90   95.0   92.0   96.8    97   92.5   94.3   99.7\n",
       "13   120  121.9   125  130.5  133.7  131.0   145  140.0  141.0  144.6\n",
       "14   120  121.9   125  130.5  133.7  131.0   145  140.0  141.0  144.6\n",
       "15   120  121.9   125  130.5  133.7  131.0   145  140.0  141.0  144.6\n",
       "16    91   91.5    90   95.0   92.0   96.8    97   92.5   94.3   99.7\n",
       "17   120  121.9   125  130.5  133.7  131.0   145  140.0  141.0  144.6\n",
       "18    91   91.5    90   95.0   92.0   96.8    97   92.5   94.3   99.7\n",
       "19   120  121.9   125  130.5  133.7  131.0   145  140.0  141.0  144.6\n",
       "20   120  121.9   125  130.5  133.7  131.0   145  140.0  141.0  144.6\n",
       "21    91   91.5    90   95.0   92.0   96.8    97   92.5   94.3   99.7"
      ]
     },
     "execution_count": 182,
     "metadata": {},
     "output_type": "execute_result"
    }
   ],
   "source": [
    "popul=pd.read_csv('DataSet.csv')\n",
    "popul"
   ]
  },
  {
   "cell_type": "code",
   "execution_count": 205,
   "metadata": {},
   "outputs": [
    {
     "data": {
      "text/html": [
       "<div>\n",
       "<style scoped>\n",
       "    .dataframe tbody tr th:only-of-type {\n",
       "        vertical-align: middle;\n",
       "    }\n",
       "\n",
       "    .dataframe tbody tr th {\n",
       "        vertical-align: top;\n",
       "    }\n",
       "\n",
       "    .dataframe thead th {\n",
       "        text-align: right;\n",
       "    }\n",
       "</style>\n",
       "<table border=\"1\" class=\"dataframe\">\n",
       "  <thead>\n",
       "    <tr style=\"text-align: right;\">\n",
       "      <th></th>\n",
       "      <th>2001</th>\n",
       "      <th>2002</th>\n",
       "      <th>2003</th>\n",
       "      <th>2004</th>\n",
       "      <th>2005</th>\n",
       "      <th>2006</th>\n",
       "      <th>2007</th>\n",
       "      <th>2008</th>\n",
       "      <th>2009</th>\n",
       "      <th>2010</th>\n",
       "    </tr>\n",
       "  </thead>\n",
       "  <tbody>\n",
       "    <tr>\n",
       "      <th>India</th>\n",
       "      <td>91</td>\n",
       "      <td>91.5</td>\n",
       "      <td>90</td>\n",
       "      <td>95.0</td>\n",
       "      <td>92.0</td>\n",
       "      <td>96.8</td>\n",
       "      <td>97</td>\n",
       "      <td>92.5</td>\n",
       "      <td>94.3</td>\n",
       "      <td>99.7</td>\n",
       "    </tr>\n",
       "    <tr>\n",
       "      <th>China</th>\n",
       "      <td>120</td>\n",
       "      <td>121.9</td>\n",
       "      <td>125</td>\n",
       "      <td>130.5</td>\n",
       "      <td>133.7</td>\n",
       "      <td>131.0</td>\n",
       "      <td>145</td>\n",
       "      <td>140.0</td>\n",
       "      <td>141.0</td>\n",
       "      <td>144.6</td>\n",
       "    </tr>\n",
       "    <tr>\n",
       "      <th>England</th>\n",
       "      <td>91</td>\n",
       "      <td>91.5</td>\n",
       "      <td>90</td>\n",
       "      <td>95.0</td>\n",
       "      <td>92.0</td>\n",
       "      <td>96.8</td>\n",
       "      <td>97</td>\n",
       "      <td>92.5</td>\n",
       "      <td>94.3</td>\n",
       "      <td>99.7</td>\n",
       "    </tr>\n",
       "    <tr>\n",
       "      <th>Australia</th>\n",
       "      <td>120</td>\n",
       "      <td>121.9</td>\n",
       "      <td>125</td>\n",
       "      <td>130.5</td>\n",
       "      <td>133.7</td>\n",
       "      <td>131.0</td>\n",
       "      <td>145</td>\n",
       "      <td>140.0</td>\n",
       "      <td>141.0</td>\n",
       "      <td>144.6</td>\n",
       "    </tr>\n",
       "    <tr>\n",
       "      <th>South Korea</th>\n",
       "      <td>120</td>\n",
       "      <td>121.9</td>\n",
       "      <td>125</td>\n",
       "      <td>130.5</td>\n",
       "      <td>133.7</td>\n",
       "      <td>131.0</td>\n",
       "      <td>145</td>\n",
       "      <td>140.0</td>\n",
       "      <td>141.0</td>\n",
       "      <td>144.6</td>\n",
       "    </tr>\n",
       "    <tr>\n",
       "      <th>North korea</th>\n",
       "      <td>120</td>\n",
       "      <td>121.9</td>\n",
       "      <td>125</td>\n",
       "      <td>130.5</td>\n",
       "      <td>133.7</td>\n",
       "      <td>131.0</td>\n",
       "      <td>145</td>\n",
       "      <td>140.0</td>\n",
       "      <td>141.0</td>\n",
       "      <td>144.6</td>\n",
       "    </tr>\n",
       "    <tr>\n",
       "      <th>Pakisthan</th>\n",
       "      <td>120</td>\n",
       "      <td>121.9</td>\n",
       "      <td>125</td>\n",
       "      <td>130.5</td>\n",
       "      <td>133.7</td>\n",
       "      <td>131.0</td>\n",
       "      <td>145</td>\n",
       "      <td>140.0</td>\n",
       "      <td>141.0</td>\n",
       "      <td>144.6</td>\n",
       "    </tr>\n",
       "    <tr>\n",
       "      <th>Iris</th>\n",
       "      <td>120</td>\n",
       "      <td>121.9</td>\n",
       "      <td>125</td>\n",
       "      <td>130.5</td>\n",
       "      <td>133.7</td>\n",
       "      <td>131.0</td>\n",
       "      <td>145</td>\n",
       "      <td>140.0</td>\n",
       "      <td>141.0</td>\n",
       "      <td>144.6</td>\n",
       "    </tr>\n",
       "    <tr>\n",
       "      <th>Iraq</th>\n",
       "      <td>91</td>\n",
       "      <td>91.5</td>\n",
       "      <td>90</td>\n",
       "      <td>95.0</td>\n",
       "      <td>92.0</td>\n",
       "      <td>96.8</td>\n",
       "      <td>97</td>\n",
       "      <td>92.5</td>\n",
       "      <td>94.3</td>\n",
       "      <td>99.7</td>\n",
       "    </tr>\n",
       "    <tr>\n",
       "      <th>India2</th>\n",
       "      <td>120</td>\n",
       "      <td>121.9</td>\n",
       "      <td>125</td>\n",
       "      <td>130.5</td>\n",
       "      <td>133.7</td>\n",
       "      <td>131.0</td>\n",
       "      <td>145</td>\n",
       "      <td>140.0</td>\n",
       "      <td>141.0</td>\n",
       "      <td>144.6</td>\n",
       "    </tr>\n",
       "    <tr>\n",
       "      <th>India3India4</th>\n",
       "      <td>120</td>\n",
       "      <td>121.9</td>\n",
       "      <td>125</td>\n",
       "      <td>130.5</td>\n",
       "      <td>133.7</td>\n",
       "      <td>131.0</td>\n",
       "      <td>145</td>\n",
       "      <td>140.0</td>\n",
       "      <td>141.0</td>\n",
       "      <td>144.6</td>\n",
       "    </tr>\n",
       "    <tr>\n",
       "      <th>India6</th>\n",
       "      <td>91</td>\n",
       "      <td>91.5</td>\n",
       "      <td>90</td>\n",
       "      <td>95.0</td>\n",
       "      <td>92.0</td>\n",
       "      <td>96.8</td>\n",
       "      <td>97</td>\n",
       "      <td>92.5</td>\n",
       "      <td>94.3</td>\n",
       "      <td>99.7</td>\n",
       "    </tr>\n",
       "    <tr>\n",
       "      <th>India7</th>\n",
       "      <td>120</td>\n",
       "      <td>121.9</td>\n",
       "      <td>125</td>\n",
       "      <td>130.5</td>\n",
       "      <td>133.7</td>\n",
       "      <td>131.0</td>\n",
       "      <td>145</td>\n",
       "      <td>140.0</td>\n",
       "      <td>141.0</td>\n",
       "      <td>144.6</td>\n",
       "    </tr>\n",
       "    <tr>\n",
       "      <th>India8</th>\n",
       "      <td>120</td>\n",
       "      <td>121.9</td>\n",
       "      <td>125</td>\n",
       "      <td>130.5</td>\n",
       "      <td>133.7</td>\n",
       "      <td>131.0</td>\n",
       "      <td>145</td>\n",
       "      <td>140.0</td>\n",
       "      <td>141.0</td>\n",
       "      <td>144.6</td>\n",
       "    </tr>\n",
       "    <tr>\n",
       "      <th>India9</th>\n",
       "      <td>120</td>\n",
       "      <td>121.9</td>\n",
       "      <td>125</td>\n",
       "      <td>130.5</td>\n",
       "      <td>133.7</td>\n",
       "      <td>131.0</td>\n",
       "      <td>145</td>\n",
       "      <td>140.0</td>\n",
       "      <td>141.0</td>\n",
       "      <td>144.6</td>\n",
       "    </tr>\n",
       "    <tr>\n",
       "      <th>India10</th>\n",
       "      <td>91</td>\n",
       "      <td>91.5</td>\n",
       "      <td>90</td>\n",
       "      <td>95.0</td>\n",
       "      <td>92.0</td>\n",
       "      <td>96.8</td>\n",
       "      <td>97</td>\n",
       "      <td>92.5</td>\n",
       "      <td>94.3</td>\n",
       "      <td>99.7</td>\n",
       "    </tr>\n",
       "    <tr>\n",
       "      <th>India11</th>\n",
       "      <td>120</td>\n",
       "      <td>121.9</td>\n",
       "      <td>125</td>\n",
       "      <td>130.5</td>\n",
       "      <td>133.7</td>\n",
       "      <td>131.0</td>\n",
       "      <td>145</td>\n",
       "      <td>140.0</td>\n",
       "      <td>141.0</td>\n",
       "      <td>144.6</td>\n",
       "    </tr>\n",
       "    <tr>\n",
       "      <th>India12</th>\n",
       "      <td>91</td>\n",
       "      <td>91.5</td>\n",
       "      <td>90</td>\n",
       "      <td>95.0</td>\n",
       "      <td>92.0</td>\n",
       "      <td>96.8</td>\n",
       "      <td>97</td>\n",
       "      <td>92.5</td>\n",
       "      <td>94.3</td>\n",
       "      <td>99.7</td>\n",
       "    </tr>\n",
       "    <tr>\n",
       "      <th>India13</th>\n",
       "      <td>120</td>\n",
       "      <td>121.9</td>\n",
       "      <td>125</td>\n",
       "      <td>130.5</td>\n",
       "      <td>133.7</td>\n",
       "      <td>131.0</td>\n",
       "      <td>145</td>\n",
       "      <td>140.0</td>\n",
       "      <td>141.0</td>\n",
       "      <td>144.6</td>\n",
       "    </tr>\n",
       "    <tr>\n",
       "      <th>India14</th>\n",
       "      <td>120</td>\n",
       "      <td>121.9</td>\n",
       "      <td>125</td>\n",
       "      <td>130.5</td>\n",
       "      <td>133.7</td>\n",
       "      <td>131.0</td>\n",
       "      <td>145</td>\n",
       "      <td>140.0</td>\n",
       "      <td>141.0</td>\n",
       "      <td>144.6</td>\n",
       "    </tr>\n",
       "    <tr>\n",
       "      <th>India15</th>\n",
       "      <td>91</td>\n",
       "      <td>91.5</td>\n",
       "      <td>90</td>\n",
       "      <td>95.0</td>\n",
       "      <td>92.0</td>\n",
       "      <td>96.8</td>\n",
       "      <td>97</td>\n",
       "      <td>92.5</td>\n",
       "      <td>94.3</td>\n",
       "      <td>99.7</td>\n",
       "    </tr>\n",
       "  </tbody>\n",
       "</table>\n",
       "</div>"
      ],
      "text/plain": [
       "              2001   2002  2003   2004   2005   2006  2007   2008   2009  \\\n",
       "India           91   91.5    90   95.0   92.0   96.8    97   92.5   94.3   \n",
       "China          120  121.9   125  130.5  133.7  131.0   145  140.0  141.0   \n",
       "England         91   91.5    90   95.0   92.0   96.8    97   92.5   94.3   \n",
       "Australia      120  121.9   125  130.5  133.7  131.0   145  140.0  141.0   \n",
       "South Korea    120  121.9   125  130.5  133.7  131.0   145  140.0  141.0   \n",
       "North korea    120  121.9   125  130.5  133.7  131.0   145  140.0  141.0   \n",
       "Pakisthan      120  121.9   125  130.5  133.7  131.0   145  140.0  141.0   \n",
       "Iris           120  121.9   125  130.5  133.7  131.0   145  140.0  141.0   \n",
       "Iraq            91   91.5    90   95.0   92.0   96.8    97   92.5   94.3   \n",
       "India2         120  121.9   125  130.5  133.7  131.0   145  140.0  141.0   \n",
       "India3India4   120  121.9   125  130.5  133.7  131.0   145  140.0  141.0   \n",
       "India6          91   91.5    90   95.0   92.0   96.8    97   92.5   94.3   \n",
       "India7         120  121.9   125  130.5  133.7  131.0   145  140.0  141.0   \n",
       "India8         120  121.9   125  130.5  133.7  131.0   145  140.0  141.0   \n",
       "India9         120  121.9   125  130.5  133.7  131.0   145  140.0  141.0   \n",
       "India10         91   91.5    90   95.0   92.0   96.8    97   92.5   94.3   \n",
       "India11        120  121.9   125  130.5  133.7  131.0   145  140.0  141.0   \n",
       "India12         91   91.5    90   95.0   92.0   96.8    97   92.5   94.3   \n",
       "India13        120  121.9   125  130.5  133.7  131.0   145  140.0  141.0   \n",
       "India14        120  121.9   125  130.5  133.7  131.0   145  140.0  141.0   \n",
       "India15         91   91.5    90   95.0   92.0   96.8    97   92.5   94.3   \n",
       "\n",
       "               2010  \n",
       "India          99.7  \n",
       "China         144.6  \n",
       "England        99.7  \n",
       "Australia     144.6  \n",
       "South Korea   144.6  \n",
       "North korea   144.6  \n",
       "Pakisthan     144.6  \n",
       "Iris          144.6  \n",
       "Iraq           99.7  \n",
       "India2        144.6  \n",
       "India3India4  144.6  \n",
       "India6         99.7  \n",
       "India7        144.6  \n",
       "India8        144.6  \n",
       "India9        144.6  \n",
       "India10        99.7  \n",
       "India11       144.6  \n",
       "India12        99.7  \n",
       "India13       144.6  \n",
       "India14       144.6  \n",
       "India15        99.7  "
      ]
     },
     "execution_count": 205,
     "metadata": {},
     "output_type": "execute_result"
    }
   ],
   "source": [
    "popul"
   ]
  },
  {
   "cell_type": "code",
   "execution_count": 183,
   "metadata": {},
   "outputs": [
    {
     "data": {
      "text/plain": [
       "RangeIndex(start=0, stop=22, step=1)"
      ]
     },
     "execution_count": 183,
     "metadata": {},
     "output_type": "execute_result"
    }
   ],
   "source": [
    "popul.drop(21,)"
   ]
  },
  {
   "cell_type": "code",
   "execution_count": 204,
   "metadata": {},
   "outputs": [
    {
     "ename": "KeyError",
     "evalue": "'[21] not found in axis'",
     "output_type": "error",
     "traceback": [
      "\u001b[1;31m---------------------------------------------------------------------------\u001b[0m",
      "\u001b[1;31mKeyError\u001b[0m                                  Traceback (most recent call last)",
      "\u001b[1;32m<ipython-input-204-d79967f3a4cd>\u001b[0m in \u001b[0;36m<module>\u001b[1;34m\u001b[0m\n\u001b[1;32m----> 1\u001b[1;33m \u001b[0mpopul\u001b[0m\u001b[1;33m.\u001b[0m\u001b[0mdrop\u001b[0m\u001b[1;33m(\u001b[0m\u001b[1;36m21\u001b[0m\u001b[1;33m,\u001b[0m\u001b[0minplace\u001b[0m\u001b[1;33m=\u001b[0m\u001b[1;32mTrue\u001b[0m\u001b[1;33m,\u001b[0m\u001b[0maxis\u001b[0m\u001b[1;33m=\u001b[0m\u001b[1;36m1\u001b[0m\u001b[1;33m)\u001b[0m\u001b[1;33m\u001b[0m\u001b[1;33m\u001b[0m\u001b[0m\n\u001b[0m",
      "\u001b[1;32m~\\anaconda3\\lib\\site-packages\\pandas\\core\\frame.py\u001b[0m in \u001b[0;36mdrop\u001b[1;34m(self, labels, axis, index, columns, level, inplace, errors)\u001b[0m\n\u001b[0;32m   4161\u001b[0m                 \u001b[0mweight\u001b[0m  \u001b[1;36m1.0\u001b[0m     \u001b[1;36m0.8\u001b[0m\u001b[1;33m\u001b[0m\u001b[1;33m\u001b[0m\u001b[0m\n\u001b[0;32m   4162\u001b[0m         \"\"\"\n\u001b[1;32m-> 4163\u001b[1;33m         return super().drop(\n\u001b[0m\u001b[0;32m   4164\u001b[0m             \u001b[0mlabels\u001b[0m\u001b[1;33m=\u001b[0m\u001b[0mlabels\u001b[0m\u001b[1;33m,\u001b[0m\u001b[1;33m\u001b[0m\u001b[1;33m\u001b[0m\u001b[0m\n\u001b[0;32m   4165\u001b[0m             \u001b[0maxis\u001b[0m\u001b[1;33m=\u001b[0m\u001b[0maxis\u001b[0m\u001b[1;33m,\u001b[0m\u001b[1;33m\u001b[0m\u001b[1;33m\u001b[0m\u001b[0m\n",
      "\u001b[1;32m~\\anaconda3\\lib\\site-packages\\pandas\\core\\generic.py\u001b[0m in \u001b[0;36mdrop\u001b[1;34m(self, labels, axis, index, columns, level, inplace, errors)\u001b[0m\n\u001b[0;32m   3885\u001b[0m         \u001b[1;32mfor\u001b[0m \u001b[0maxis\u001b[0m\u001b[1;33m,\u001b[0m \u001b[0mlabels\u001b[0m \u001b[1;32min\u001b[0m \u001b[0maxes\u001b[0m\u001b[1;33m.\u001b[0m\u001b[0mitems\u001b[0m\u001b[1;33m(\u001b[0m\u001b[1;33m)\u001b[0m\u001b[1;33m:\u001b[0m\u001b[1;33m\u001b[0m\u001b[1;33m\u001b[0m\u001b[0m\n\u001b[0;32m   3886\u001b[0m             \u001b[1;32mif\u001b[0m \u001b[0mlabels\u001b[0m \u001b[1;32mis\u001b[0m \u001b[1;32mnot\u001b[0m \u001b[1;32mNone\u001b[0m\u001b[1;33m:\u001b[0m\u001b[1;33m\u001b[0m\u001b[1;33m\u001b[0m\u001b[0m\n\u001b[1;32m-> 3887\u001b[1;33m                 \u001b[0mobj\u001b[0m \u001b[1;33m=\u001b[0m \u001b[0mobj\u001b[0m\u001b[1;33m.\u001b[0m\u001b[0m_drop_axis\u001b[0m\u001b[1;33m(\u001b[0m\u001b[0mlabels\u001b[0m\u001b[1;33m,\u001b[0m \u001b[0maxis\u001b[0m\u001b[1;33m,\u001b[0m \u001b[0mlevel\u001b[0m\u001b[1;33m=\u001b[0m\u001b[0mlevel\u001b[0m\u001b[1;33m,\u001b[0m \u001b[0merrors\u001b[0m\u001b[1;33m=\u001b[0m\u001b[0merrors\u001b[0m\u001b[1;33m)\u001b[0m\u001b[1;33m\u001b[0m\u001b[1;33m\u001b[0m\u001b[0m\n\u001b[0m\u001b[0;32m   3888\u001b[0m \u001b[1;33m\u001b[0m\u001b[0m\n\u001b[0;32m   3889\u001b[0m         \u001b[1;32mif\u001b[0m \u001b[0minplace\u001b[0m\u001b[1;33m:\u001b[0m\u001b[1;33m\u001b[0m\u001b[1;33m\u001b[0m\u001b[0m\n",
      "\u001b[1;32m~\\anaconda3\\lib\\site-packages\\pandas\\core\\generic.py\u001b[0m in \u001b[0;36m_drop_axis\u001b[1;34m(self, labels, axis, level, errors)\u001b[0m\n\u001b[0;32m   3919\u001b[0m                 \u001b[0mnew_axis\u001b[0m \u001b[1;33m=\u001b[0m \u001b[0maxis\u001b[0m\u001b[1;33m.\u001b[0m\u001b[0mdrop\u001b[0m\u001b[1;33m(\u001b[0m\u001b[0mlabels\u001b[0m\u001b[1;33m,\u001b[0m \u001b[0mlevel\u001b[0m\u001b[1;33m=\u001b[0m\u001b[0mlevel\u001b[0m\u001b[1;33m,\u001b[0m \u001b[0merrors\u001b[0m\u001b[1;33m=\u001b[0m\u001b[0merrors\u001b[0m\u001b[1;33m)\u001b[0m\u001b[1;33m\u001b[0m\u001b[1;33m\u001b[0m\u001b[0m\n\u001b[0;32m   3920\u001b[0m             \u001b[1;32melse\u001b[0m\u001b[1;33m:\u001b[0m\u001b[1;33m\u001b[0m\u001b[1;33m\u001b[0m\u001b[0m\n\u001b[1;32m-> 3921\u001b[1;33m                 \u001b[0mnew_axis\u001b[0m \u001b[1;33m=\u001b[0m \u001b[0maxis\u001b[0m\u001b[1;33m.\u001b[0m\u001b[0mdrop\u001b[0m\u001b[1;33m(\u001b[0m\u001b[0mlabels\u001b[0m\u001b[1;33m,\u001b[0m \u001b[0merrors\u001b[0m\u001b[1;33m=\u001b[0m\u001b[0merrors\u001b[0m\u001b[1;33m)\u001b[0m\u001b[1;33m\u001b[0m\u001b[1;33m\u001b[0m\u001b[0m\n\u001b[0m\u001b[0;32m   3922\u001b[0m             \u001b[0mresult\u001b[0m \u001b[1;33m=\u001b[0m \u001b[0mself\u001b[0m\u001b[1;33m.\u001b[0m\u001b[0mreindex\u001b[0m\u001b[1;33m(\u001b[0m\u001b[1;33m**\u001b[0m\u001b[1;33m{\u001b[0m\u001b[0maxis_name\u001b[0m\u001b[1;33m:\u001b[0m \u001b[0mnew_axis\u001b[0m\u001b[1;33m}\u001b[0m\u001b[1;33m)\u001b[0m\u001b[1;33m\u001b[0m\u001b[1;33m\u001b[0m\u001b[0m\n\u001b[0;32m   3923\u001b[0m \u001b[1;33m\u001b[0m\u001b[0m\n",
      "\u001b[1;32m~\\anaconda3\\lib\\site-packages\\pandas\\core\\indexes\\base.py\u001b[0m in \u001b[0;36mdrop\u001b[1;34m(self, labels, errors)\u001b[0m\n\u001b[0;32m   5280\u001b[0m         \u001b[1;32mif\u001b[0m \u001b[0mmask\u001b[0m\u001b[1;33m.\u001b[0m\u001b[0many\u001b[0m\u001b[1;33m(\u001b[0m\u001b[1;33m)\u001b[0m\u001b[1;33m:\u001b[0m\u001b[1;33m\u001b[0m\u001b[1;33m\u001b[0m\u001b[0m\n\u001b[0;32m   5281\u001b[0m             \u001b[1;32mif\u001b[0m \u001b[0merrors\u001b[0m \u001b[1;33m!=\u001b[0m \u001b[1;34m\"ignore\"\u001b[0m\u001b[1;33m:\u001b[0m\u001b[1;33m\u001b[0m\u001b[1;33m\u001b[0m\u001b[0m\n\u001b[1;32m-> 5282\u001b[1;33m                 \u001b[1;32mraise\u001b[0m \u001b[0mKeyError\u001b[0m\u001b[1;33m(\u001b[0m\u001b[1;34mf\"{labels[mask]} not found in axis\"\u001b[0m\u001b[1;33m)\u001b[0m\u001b[1;33m\u001b[0m\u001b[1;33m\u001b[0m\u001b[0m\n\u001b[0m\u001b[0;32m   5283\u001b[0m             \u001b[0mindexer\u001b[0m \u001b[1;33m=\u001b[0m \u001b[0mindexer\u001b[0m\u001b[1;33m[\u001b[0m\u001b[1;33m~\u001b[0m\u001b[0mmask\u001b[0m\u001b[1;33m]\u001b[0m\u001b[1;33m\u001b[0m\u001b[1;33m\u001b[0m\u001b[0m\n\u001b[0;32m   5284\u001b[0m         \u001b[1;32mreturn\u001b[0m \u001b[0mself\u001b[0m\u001b[1;33m.\u001b[0m\u001b[0mdelete\u001b[0m\u001b[1;33m(\u001b[0m\u001b[0mindexer\u001b[0m\u001b[1;33m)\u001b[0m\u001b[1;33m\u001b[0m\u001b[1;33m\u001b[0m\u001b[0m\n",
      "\u001b[1;31mKeyError\u001b[0m: '[21] not found in axis'"
     ]
    }
   ],
   "source": [
    "popul.drop(21,inplace=True,axis=1)"
   ]
  },
  {
   "cell_type": "code",
   "execution_count": 189,
   "metadata": {},
   "outputs": [
    {
     "data": {
      "text/plain": [
       "(22, 10)"
      ]
     },
     "execution_count": 189,
     "metadata": {},
     "output_type": "execute_result"
    }
   ],
   "source": [
    "popul.shape"
   ]
  },
  {
   "cell_type": "code",
   "execution_count": 190,
   "metadata": {},
   "outputs": [
    {
     "data": {
      "text/plain": [
       "Index(['2001', '2002', '2003', '2004', '2005', '2006', '2007', '2008', '2009',\n",
       "       '2010'],\n",
       "      dtype='object')"
      ]
     },
     "execution_count": 190,
     "metadata": {},
     "output_type": "execute_result"
    }
   ],
   "source": [
    "popul.columns"
   ]
  },
  {
   "cell_type": "code",
   "execution_count": 192,
   "metadata": {},
   "outputs": [],
   "source": [
    "popul.index=['India','China','England','Australia','South Korea','North korea','Pakisthan','Iris','Iraq','India2','India3'\n",
    "            'India4','India5','India6','India7','India8','India9','India10','India11','India12','India13','India14','India15']"
   ]
  },
  {
   "cell_type": "code",
   "execution_count": 193,
   "metadata": {},
   "outputs": [
    {
     "data": {
      "text/html": [
       "<div>\n",
       "<style scoped>\n",
       "    .dataframe tbody tr th:only-of-type {\n",
       "        vertical-align: middle;\n",
       "    }\n",
       "\n",
       "    .dataframe tbody tr th {\n",
       "        vertical-align: top;\n",
       "    }\n",
       "\n",
       "    .dataframe thead th {\n",
       "        text-align: right;\n",
       "    }\n",
       "</style>\n",
       "<table border=\"1\" class=\"dataframe\">\n",
       "  <thead>\n",
       "    <tr style=\"text-align: right;\">\n",
       "      <th></th>\n",
       "      <th>2001</th>\n",
       "      <th>2002</th>\n",
       "      <th>2003</th>\n",
       "      <th>2004</th>\n",
       "      <th>2005</th>\n",
       "      <th>2006</th>\n",
       "      <th>2007</th>\n",
       "      <th>2008</th>\n",
       "      <th>2009</th>\n",
       "      <th>2010</th>\n",
       "    </tr>\n",
       "  </thead>\n",
       "  <tbody>\n",
       "    <tr>\n",
       "      <th>India</th>\n",
       "      <td>91</td>\n",
       "      <td>91.5</td>\n",
       "      <td>90</td>\n",
       "      <td>95.0</td>\n",
       "      <td>92.0</td>\n",
       "      <td>96.8</td>\n",
       "      <td>97</td>\n",
       "      <td>92.5</td>\n",
       "      <td>94.3</td>\n",
       "      <td>99.7</td>\n",
       "    </tr>\n",
       "    <tr>\n",
       "      <th>China</th>\n",
       "      <td>120</td>\n",
       "      <td>121.9</td>\n",
       "      <td>125</td>\n",
       "      <td>130.5</td>\n",
       "      <td>133.7</td>\n",
       "      <td>131.0</td>\n",
       "      <td>145</td>\n",
       "      <td>140.0</td>\n",
       "      <td>141.0</td>\n",
       "      <td>144.6</td>\n",
       "    </tr>\n",
       "    <tr>\n",
       "      <th>England</th>\n",
       "      <td>91</td>\n",
       "      <td>91.5</td>\n",
       "      <td>90</td>\n",
       "      <td>95.0</td>\n",
       "      <td>92.0</td>\n",
       "      <td>96.8</td>\n",
       "      <td>97</td>\n",
       "      <td>92.5</td>\n",
       "      <td>94.3</td>\n",
       "      <td>99.7</td>\n",
       "    </tr>\n",
       "    <tr>\n",
       "      <th>Australia</th>\n",
       "      <td>120</td>\n",
       "      <td>121.9</td>\n",
       "      <td>125</td>\n",
       "      <td>130.5</td>\n",
       "      <td>133.7</td>\n",
       "      <td>131.0</td>\n",
       "      <td>145</td>\n",
       "      <td>140.0</td>\n",
       "      <td>141.0</td>\n",
       "      <td>144.6</td>\n",
       "    </tr>\n",
       "    <tr>\n",
       "      <th>South Korea</th>\n",
       "      <td>120</td>\n",
       "      <td>121.9</td>\n",
       "      <td>125</td>\n",
       "      <td>130.5</td>\n",
       "      <td>133.7</td>\n",
       "      <td>131.0</td>\n",
       "      <td>145</td>\n",
       "      <td>140.0</td>\n",
       "      <td>141.0</td>\n",
       "      <td>144.6</td>\n",
       "    </tr>\n",
       "    <tr>\n",
       "      <th>North korea</th>\n",
       "      <td>120</td>\n",
       "      <td>121.9</td>\n",
       "      <td>125</td>\n",
       "      <td>130.5</td>\n",
       "      <td>133.7</td>\n",
       "      <td>131.0</td>\n",
       "      <td>145</td>\n",
       "      <td>140.0</td>\n",
       "      <td>141.0</td>\n",
       "      <td>144.6</td>\n",
       "    </tr>\n",
       "    <tr>\n",
       "      <th>Pakisthan</th>\n",
       "      <td>120</td>\n",
       "      <td>121.9</td>\n",
       "      <td>125</td>\n",
       "      <td>130.5</td>\n",
       "      <td>133.7</td>\n",
       "      <td>131.0</td>\n",
       "      <td>145</td>\n",
       "      <td>140.0</td>\n",
       "      <td>141.0</td>\n",
       "      <td>144.6</td>\n",
       "    </tr>\n",
       "    <tr>\n",
       "      <th>Iris</th>\n",
       "      <td>120</td>\n",
       "      <td>121.9</td>\n",
       "      <td>125</td>\n",
       "      <td>130.5</td>\n",
       "      <td>133.7</td>\n",
       "      <td>131.0</td>\n",
       "      <td>145</td>\n",
       "      <td>140.0</td>\n",
       "      <td>141.0</td>\n",
       "      <td>144.6</td>\n",
       "    </tr>\n",
       "    <tr>\n",
       "      <th>Iraq</th>\n",
       "      <td>91</td>\n",
       "      <td>91.5</td>\n",
       "      <td>90</td>\n",
       "      <td>95.0</td>\n",
       "      <td>92.0</td>\n",
       "      <td>96.8</td>\n",
       "      <td>97</td>\n",
       "      <td>92.5</td>\n",
       "      <td>94.3</td>\n",
       "      <td>99.7</td>\n",
       "    </tr>\n",
       "    <tr>\n",
       "      <th>India2</th>\n",
       "      <td>120</td>\n",
       "      <td>121.9</td>\n",
       "      <td>125</td>\n",
       "      <td>130.5</td>\n",
       "      <td>133.7</td>\n",
       "      <td>131.0</td>\n",
       "      <td>145</td>\n",
       "      <td>140.0</td>\n",
       "      <td>141.0</td>\n",
       "      <td>144.6</td>\n",
       "    </tr>\n",
       "    <tr>\n",
       "      <th>India3India4</th>\n",
       "      <td>120</td>\n",
       "      <td>121.9</td>\n",
       "      <td>125</td>\n",
       "      <td>130.5</td>\n",
       "      <td>133.7</td>\n",
       "      <td>131.0</td>\n",
       "      <td>145</td>\n",
       "      <td>140.0</td>\n",
       "      <td>141.0</td>\n",
       "      <td>144.6</td>\n",
       "    </tr>\n",
       "    <tr>\n",
       "      <th>India5</th>\n",
       "      <td>120</td>\n",
       "      <td>121.9</td>\n",
       "      <td>125</td>\n",
       "      <td>130.5</td>\n",
       "      <td>133.7</td>\n",
       "      <td>131.0</td>\n",
       "      <td>145</td>\n",
       "      <td>140.0</td>\n",
       "      <td>141.0</td>\n",
       "      <td>144.6</td>\n",
       "    </tr>\n",
       "    <tr>\n",
       "      <th>India6</th>\n",
       "      <td>91</td>\n",
       "      <td>91.5</td>\n",
       "      <td>90</td>\n",
       "      <td>95.0</td>\n",
       "      <td>92.0</td>\n",
       "      <td>96.8</td>\n",
       "      <td>97</td>\n",
       "      <td>92.5</td>\n",
       "      <td>94.3</td>\n",
       "      <td>99.7</td>\n",
       "    </tr>\n",
       "    <tr>\n",
       "      <th>India7</th>\n",
       "      <td>120</td>\n",
       "      <td>121.9</td>\n",
       "      <td>125</td>\n",
       "      <td>130.5</td>\n",
       "      <td>133.7</td>\n",
       "      <td>131.0</td>\n",
       "      <td>145</td>\n",
       "      <td>140.0</td>\n",
       "      <td>141.0</td>\n",
       "      <td>144.6</td>\n",
       "    </tr>\n",
       "    <tr>\n",
       "      <th>India8</th>\n",
       "      <td>120</td>\n",
       "      <td>121.9</td>\n",
       "      <td>125</td>\n",
       "      <td>130.5</td>\n",
       "      <td>133.7</td>\n",
       "      <td>131.0</td>\n",
       "      <td>145</td>\n",
       "      <td>140.0</td>\n",
       "      <td>141.0</td>\n",
       "      <td>144.6</td>\n",
       "    </tr>\n",
       "    <tr>\n",
       "      <th>India9</th>\n",
       "      <td>120</td>\n",
       "      <td>121.9</td>\n",
       "      <td>125</td>\n",
       "      <td>130.5</td>\n",
       "      <td>133.7</td>\n",
       "      <td>131.0</td>\n",
       "      <td>145</td>\n",
       "      <td>140.0</td>\n",
       "      <td>141.0</td>\n",
       "      <td>144.6</td>\n",
       "    </tr>\n",
       "    <tr>\n",
       "      <th>India10</th>\n",
       "      <td>91</td>\n",
       "      <td>91.5</td>\n",
       "      <td>90</td>\n",
       "      <td>95.0</td>\n",
       "      <td>92.0</td>\n",
       "      <td>96.8</td>\n",
       "      <td>97</td>\n",
       "      <td>92.5</td>\n",
       "      <td>94.3</td>\n",
       "      <td>99.7</td>\n",
       "    </tr>\n",
       "    <tr>\n",
       "      <th>India11</th>\n",
       "      <td>120</td>\n",
       "      <td>121.9</td>\n",
       "      <td>125</td>\n",
       "      <td>130.5</td>\n",
       "      <td>133.7</td>\n",
       "      <td>131.0</td>\n",
       "      <td>145</td>\n",
       "      <td>140.0</td>\n",
       "      <td>141.0</td>\n",
       "      <td>144.6</td>\n",
       "    </tr>\n",
       "    <tr>\n",
       "      <th>India12</th>\n",
       "      <td>91</td>\n",
       "      <td>91.5</td>\n",
       "      <td>90</td>\n",
       "      <td>95.0</td>\n",
       "      <td>92.0</td>\n",
       "      <td>96.8</td>\n",
       "      <td>97</td>\n",
       "      <td>92.5</td>\n",
       "      <td>94.3</td>\n",
       "      <td>99.7</td>\n",
       "    </tr>\n",
       "    <tr>\n",
       "      <th>India13</th>\n",
       "      <td>120</td>\n",
       "      <td>121.9</td>\n",
       "      <td>125</td>\n",
       "      <td>130.5</td>\n",
       "      <td>133.7</td>\n",
       "      <td>131.0</td>\n",
       "      <td>145</td>\n",
       "      <td>140.0</td>\n",
       "      <td>141.0</td>\n",
       "      <td>144.6</td>\n",
       "    </tr>\n",
       "    <tr>\n",
       "      <th>India14</th>\n",
       "      <td>120</td>\n",
       "      <td>121.9</td>\n",
       "      <td>125</td>\n",
       "      <td>130.5</td>\n",
       "      <td>133.7</td>\n",
       "      <td>131.0</td>\n",
       "      <td>145</td>\n",
       "      <td>140.0</td>\n",
       "      <td>141.0</td>\n",
       "      <td>144.6</td>\n",
       "    </tr>\n",
       "    <tr>\n",
       "      <th>India15</th>\n",
       "      <td>91</td>\n",
       "      <td>91.5</td>\n",
       "      <td>90</td>\n",
       "      <td>95.0</td>\n",
       "      <td>92.0</td>\n",
       "      <td>96.8</td>\n",
       "      <td>97</td>\n",
       "      <td>92.5</td>\n",
       "      <td>94.3</td>\n",
       "      <td>99.7</td>\n",
       "    </tr>\n",
       "  </tbody>\n",
       "</table>\n",
       "</div>"
      ],
      "text/plain": [
       "              2001   2002  2003   2004   2005   2006  2007   2008   2009  \\\n",
       "India           91   91.5    90   95.0   92.0   96.8    97   92.5   94.3   \n",
       "China          120  121.9   125  130.5  133.7  131.0   145  140.0  141.0   \n",
       "England         91   91.5    90   95.0   92.0   96.8    97   92.5   94.3   \n",
       "Australia      120  121.9   125  130.5  133.7  131.0   145  140.0  141.0   \n",
       "South Korea    120  121.9   125  130.5  133.7  131.0   145  140.0  141.0   \n",
       "North korea    120  121.9   125  130.5  133.7  131.0   145  140.0  141.0   \n",
       "Pakisthan      120  121.9   125  130.5  133.7  131.0   145  140.0  141.0   \n",
       "Iris           120  121.9   125  130.5  133.7  131.0   145  140.0  141.0   \n",
       "Iraq            91   91.5    90   95.0   92.0   96.8    97   92.5   94.3   \n",
       "India2         120  121.9   125  130.5  133.7  131.0   145  140.0  141.0   \n",
       "India3India4   120  121.9   125  130.5  133.7  131.0   145  140.0  141.0   \n",
       "India5         120  121.9   125  130.5  133.7  131.0   145  140.0  141.0   \n",
       "India6          91   91.5    90   95.0   92.0   96.8    97   92.5   94.3   \n",
       "India7         120  121.9   125  130.5  133.7  131.0   145  140.0  141.0   \n",
       "India8         120  121.9   125  130.5  133.7  131.0   145  140.0  141.0   \n",
       "India9         120  121.9   125  130.5  133.7  131.0   145  140.0  141.0   \n",
       "India10         91   91.5    90   95.0   92.0   96.8    97   92.5   94.3   \n",
       "India11        120  121.9   125  130.5  133.7  131.0   145  140.0  141.0   \n",
       "India12         91   91.5    90   95.0   92.0   96.8    97   92.5   94.3   \n",
       "India13        120  121.9   125  130.5  133.7  131.0   145  140.0  141.0   \n",
       "India14        120  121.9   125  130.5  133.7  131.0   145  140.0  141.0   \n",
       "India15         91   91.5    90   95.0   92.0   96.8    97   92.5   94.3   \n",
       "\n",
       "               2010  \n",
       "India          99.7  \n",
       "China         144.6  \n",
       "England        99.7  \n",
       "Australia     144.6  \n",
       "South Korea   144.6  \n",
       "North korea   144.6  \n",
       "Pakisthan     144.6  \n",
       "Iris          144.6  \n",
       "Iraq           99.7  \n",
       "India2        144.6  \n",
       "India3India4  144.6  \n",
       "India5        144.6  \n",
       "India6         99.7  \n",
       "India7        144.6  \n",
       "India8        144.6  \n",
       "India9        144.6  \n",
       "India10        99.7  \n",
       "India11       144.6  \n",
       "India12        99.7  \n",
       "India13       144.6  \n",
       "India14       144.6  \n",
       "India15        99.7  "
      ]
     },
     "execution_count": 193,
     "metadata": {},
     "output_type": "execute_result"
    }
   ],
   "source": [
    "popul"
   ]
  },
  {
   "cell_type": "code",
   "execution_count": 198,
   "metadata": {},
   "outputs": [],
   "source": [
    "popul.drop('India5',inplace=True)"
   ]
  },
  {
   "cell_type": "code",
   "execution_count": 199,
   "metadata": {},
   "outputs": [
    {
     "data": {
      "text/html": [
       "<div>\n",
       "<style scoped>\n",
       "    .dataframe tbody tr th:only-of-type {\n",
       "        vertical-align: middle;\n",
       "    }\n",
       "\n",
       "    .dataframe tbody tr th {\n",
       "        vertical-align: top;\n",
       "    }\n",
       "\n",
       "    .dataframe thead th {\n",
       "        text-align: right;\n",
       "    }\n",
       "</style>\n",
       "<table border=\"1\" class=\"dataframe\">\n",
       "  <thead>\n",
       "    <tr style=\"text-align: right;\">\n",
       "      <th></th>\n",
       "      <th>2001</th>\n",
       "      <th>2002</th>\n",
       "      <th>2003</th>\n",
       "      <th>2004</th>\n",
       "      <th>2005</th>\n",
       "      <th>2006</th>\n",
       "      <th>2007</th>\n",
       "      <th>2008</th>\n",
       "      <th>2009</th>\n",
       "      <th>2010</th>\n",
       "    </tr>\n",
       "  </thead>\n",
       "  <tbody>\n",
       "    <tr>\n",
       "      <th>India</th>\n",
       "      <td>91</td>\n",
       "      <td>91.5</td>\n",
       "      <td>90</td>\n",
       "      <td>95.0</td>\n",
       "      <td>92.0</td>\n",
       "      <td>96.8</td>\n",
       "      <td>97</td>\n",
       "      <td>92.5</td>\n",
       "      <td>94.3</td>\n",
       "      <td>99.7</td>\n",
       "    </tr>\n",
       "    <tr>\n",
       "      <th>China</th>\n",
       "      <td>120</td>\n",
       "      <td>121.9</td>\n",
       "      <td>125</td>\n",
       "      <td>130.5</td>\n",
       "      <td>133.7</td>\n",
       "      <td>131.0</td>\n",
       "      <td>145</td>\n",
       "      <td>140.0</td>\n",
       "      <td>141.0</td>\n",
       "      <td>144.6</td>\n",
       "    </tr>\n",
       "    <tr>\n",
       "      <th>England</th>\n",
       "      <td>91</td>\n",
       "      <td>91.5</td>\n",
       "      <td>90</td>\n",
       "      <td>95.0</td>\n",
       "      <td>92.0</td>\n",
       "      <td>96.8</td>\n",
       "      <td>97</td>\n",
       "      <td>92.5</td>\n",
       "      <td>94.3</td>\n",
       "      <td>99.7</td>\n",
       "    </tr>\n",
       "    <tr>\n",
       "      <th>Australia</th>\n",
       "      <td>120</td>\n",
       "      <td>121.9</td>\n",
       "      <td>125</td>\n",
       "      <td>130.5</td>\n",
       "      <td>133.7</td>\n",
       "      <td>131.0</td>\n",
       "      <td>145</td>\n",
       "      <td>140.0</td>\n",
       "      <td>141.0</td>\n",
       "      <td>144.6</td>\n",
       "    </tr>\n",
       "    <tr>\n",
       "      <th>South Korea</th>\n",
       "      <td>120</td>\n",
       "      <td>121.9</td>\n",
       "      <td>125</td>\n",
       "      <td>130.5</td>\n",
       "      <td>133.7</td>\n",
       "      <td>131.0</td>\n",
       "      <td>145</td>\n",
       "      <td>140.0</td>\n",
       "      <td>141.0</td>\n",
       "      <td>144.6</td>\n",
       "    </tr>\n",
       "    <tr>\n",
       "      <th>North korea</th>\n",
       "      <td>120</td>\n",
       "      <td>121.9</td>\n",
       "      <td>125</td>\n",
       "      <td>130.5</td>\n",
       "      <td>133.7</td>\n",
       "      <td>131.0</td>\n",
       "      <td>145</td>\n",
       "      <td>140.0</td>\n",
       "      <td>141.0</td>\n",
       "      <td>144.6</td>\n",
       "    </tr>\n",
       "    <tr>\n",
       "      <th>Pakisthan</th>\n",
       "      <td>120</td>\n",
       "      <td>121.9</td>\n",
       "      <td>125</td>\n",
       "      <td>130.5</td>\n",
       "      <td>133.7</td>\n",
       "      <td>131.0</td>\n",
       "      <td>145</td>\n",
       "      <td>140.0</td>\n",
       "      <td>141.0</td>\n",
       "      <td>144.6</td>\n",
       "    </tr>\n",
       "    <tr>\n",
       "      <th>Iris</th>\n",
       "      <td>120</td>\n",
       "      <td>121.9</td>\n",
       "      <td>125</td>\n",
       "      <td>130.5</td>\n",
       "      <td>133.7</td>\n",
       "      <td>131.0</td>\n",
       "      <td>145</td>\n",
       "      <td>140.0</td>\n",
       "      <td>141.0</td>\n",
       "      <td>144.6</td>\n",
       "    </tr>\n",
       "    <tr>\n",
       "      <th>Iraq</th>\n",
       "      <td>91</td>\n",
       "      <td>91.5</td>\n",
       "      <td>90</td>\n",
       "      <td>95.0</td>\n",
       "      <td>92.0</td>\n",
       "      <td>96.8</td>\n",
       "      <td>97</td>\n",
       "      <td>92.5</td>\n",
       "      <td>94.3</td>\n",
       "      <td>99.7</td>\n",
       "    </tr>\n",
       "    <tr>\n",
       "      <th>India2</th>\n",
       "      <td>120</td>\n",
       "      <td>121.9</td>\n",
       "      <td>125</td>\n",
       "      <td>130.5</td>\n",
       "      <td>133.7</td>\n",
       "      <td>131.0</td>\n",
       "      <td>145</td>\n",
       "      <td>140.0</td>\n",
       "      <td>141.0</td>\n",
       "      <td>144.6</td>\n",
       "    </tr>\n",
       "    <tr>\n",
       "      <th>India3India4</th>\n",
       "      <td>120</td>\n",
       "      <td>121.9</td>\n",
       "      <td>125</td>\n",
       "      <td>130.5</td>\n",
       "      <td>133.7</td>\n",
       "      <td>131.0</td>\n",
       "      <td>145</td>\n",
       "      <td>140.0</td>\n",
       "      <td>141.0</td>\n",
       "      <td>144.6</td>\n",
       "    </tr>\n",
       "    <tr>\n",
       "      <th>India6</th>\n",
       "      <td>91</td>\n",
       "      <td>91.5</td>\n",
       "      <td>90</td>\n",
       "      <td>95.0</td>\n",
       "      <td>92.0</td>\n",
       "      <td>96.8</td>\n",
       "      <td>97</td>\n",
       "      <td>92.5</td>\n",
       "      <td>94.3</td>\n",
       "      <td>99.7</td>\n",
       "    </tr>\n",
       "    <tr>\n",
       "      <th>India7</th>\n",
       "      <td>120</td>\n",
       "      <td>121.9</td>\n",
       "      <td>125</td>\n",
       "      <td>130.5</td>\n",
       "      <td>133.7</td>\n",
       "      <td>131.0</td>\n",
       "      <td>145</td>\n",
       "      <td>140.0</td>\n",
       "      <td>141.0</td>\n",
       "      <td>144.6</td>\n",
       "    </tr>\n",
       "    <tr>\n",
       "      <th>India8</th>\n",
       "      <td>120</td>\n",
       "      <td>121.9</td>\n",
       "      <td>125</td>\n",
       "      <td>130.5</td>\n",
       "      <td>133.7</td>\n",
       "      <td>131.0</td>\n",
       "      <td>145</td>\n",
       "      <td>140.0</td>\n",
       "      <td>141.0</td>\n",
       "      <td>144.6</td>\n",
       "    </tr>\n",
       "    <tr>\n",
       "      <th>India9</th>\n",
       "      <td>120</td>\n",
       "      <td>121.9</td>\n",
       "      <td>125</td>\n",
       "      <td>130.5</td>\n",
       "      <td>133.7</td>\n",
       "      <td>131.0</td>\n",
       "      <td>145</td>\n",
       "      <td>140.0</td>\n",
       "      <td>141.0</td>\n",
       "      <td>144.6</td>\n",
       "    </tr>\n",
       "    <tr>\n",
       "      <th>India10</th>\n",
       "      <td>91</td>\n",
       "      <td>91.5</td>\n",
       "      <td>90</td>\n",
       "      <td>95.0</td>\n",
       "      <td>92.0</td>\n",
       "      <td>96.8</td>\n",
       "      <td>97</td>\n",
       "      <td>92.5</td>\n",
       "      <td>94.3</td>\n",
       "      <td>99.7</td>\n",
       "    </tr>\n",
       "    <tr>\n",
       "      <th>India11</th>\n",
       "      <td>120</td>\n",
       "      <td>121.9</td>\n",
       "      <td>125</td>\n",
       "      <td>130.5</td>\n",
       "      <td>133.7</td>\n",
       "      <td>131.0</td>\n",
       "      <td>145</td>\n",
       "      <td>140.0</td>\n",
       "      <td>141.0</td>\n",
       "      <td>144.6</td>\n",
       "    </tr>\n",
       "    <tr>\n",
       "      <th>India12</th>\n",
       "      <td>91</td>\n",
       "      <td>91.5</td>\n",
       "      <td>90</td>\n",
       "      <td>95.0</td>\n",
       "      <td>92.0</td>\n",
       "      <td>96.8</td>\n",
       "      <td>97</td>\n",
       "      <td>92.5</td>\n",
       "      <td>94.3</td>\n",
       "      <td>99.7</td>\n",
       "    </tr>\n",
       "    <tr>\n",
       "      <th>India13</th>\n",
       "      <td>120</td>\n",
       "      <td>121.9</td>\n",
       "      <td>125</td>\n",
       "      <td>130.5</td>\n",
       "      <td>133.7</td>\n",
       "      <td>131.0</td>\n",
       "      <td>145</td>\n",
       "      <td>140.0</td>\n",
       "      <td>141.0</td>\n",
       "      <td>144.6</td>\n",
       "    </tr>\n",
       "    <tr>\n",
       "      <th>India14</th>\n",
       "      <td>120</td>\n",
       "      <td>121.9</td>\n",
       "      <td>125</td>\n",
       "      <td>130.5</td>\n",
       "      <td>133.7</td>\n",
       "      <td>131.0</td>\n",
       "      <td>145</td>\n",
       "      <td>140.0</td>\n",
       "      <td>141.0</td>\n",
       "      <td>144.6</td>\n",
       "    </tr>\n",
       "    <tr>\n",
       "      <th>India15</th>\n",
       "      <td>91</td>\n",
       "      <td>91.5</td>\n",
       "      <td>90</td>\n",
       "      <td>95.0</td>\n",
       "      <td>92.0</td>\n",
       "      <td>96.8</td>\n",
       "      <td>97</td>\n",
       "      <td>92.5</td>\n",
       "      <td>94.3</td>\n",
       "      <td>99.7</td>\n",
       "    </tr>\n",
       "  </tbody>\n",
       "</table>\n",
       "</div>"
      ],
      "text/plain": [
       "              2001   2002  2003   2004   2005   2006  2007   2008   2009  \\\n",
       "India           91   91.5    90   95.0   92.0   96.8    97   92.5   94.3   \n",
       "China          120  121.9   125  130.5  133.7  131.0   145  140.0  141.0   \n",
       "England         91   91.5    90   95.0   92.0   96.8    97   92.5   94.3   \n",
       "Australia      120  121.9   125  130.5  133.7  131.0   145  140.0  141.0   \n",
       "South Korea    120  121.9   125  130.5  133.7  131.0   145  140.0  141.0   \n",
       "North korea    120  121.9   125  130.5  133.7  131.0   145  140.0  141.0   \n",
       "Pakisthan      120  121.9   125  130.5  133.7  131.0   145  140.0  141.0   \n",
       "Iris           120  121.9   125  130.5  133.7  131.0   145  140.0  141.0   \n",
       "Iraq            91   91.5    90   95.0   92.0   96.8    97   92.5   94.3   \n",
       "India2         120  121.9   125  130.5  133.7  131.0   145  140.0  141.0   \n",
       "India3India4   120  121.9   125  130.5  133.7  131.0   145  140.0  141.0   \n",
       "India6          91   91.5    90   95.0   92.0   96.8    97   92.5   94.3   \n",
       "India7         120  121.9   125  130.5  133.7  131.0   145  140.0  141.0   \n",
       "India8         120  121.9   125  130.5  133.7  131.0   145  140.0  141.0   \n",
       "India9         120  121.9   125  130.5  133.7  131.0   145  140.0  141.0   \n",
       "India10         91   91.5    90   95.0   92.0   96.8    97   92.5   94.3   \n",
       "India11        120  121.9   125  130.5  133.7  131.0   145  140.0  141.0   \n",
       "India12         91   91.5    90   95.0   92.0   96.8    97   92.5   94.3   \n",
       "India13        120  121.9   125  130.5  133.7  131.0   145  140.0  141.0   \n",
       "India14        120  121.9   125  130.5  133.7  131.0   145  140.0  141.0   \n",
       "India15         91   91.5    90   95.0   92.0   96.8    97   92.5   94.3   \n",
       "\n",
       "               2010  \n",
       "India          99.7  \n",
       "China         144.6  \n",
       "England        99.7  \n",
       "Australia     144.6  \n",
       "South Korea   144.6  \n",
       "North korea   144.6  \n",
       "Pakisthan     144.6  \n",
       "Iris          144.6  \n",
       "Iraq           99.7  \n",
       "India2        144.6  \n",
       "India3India4  144.6  \n",
       "India6         99.7  \n",
       "India7        144.6  \n",
       "India8        144.6  \n",
       "India9        144.6  \n",
       "India10        99.7  \n",
       "India11       144.6  \n",
       "India12        99.7  \n",
       "India13       144.6  \n",
       "India14       144.6  \n",
       "India15        99.7  "
      ]
     },
     "execution_count": 199,
     "metadata": {},
     "output_type": "execute_result"
    }
   ],
   "source": [
    "popul"
   ]
  },
  {
   "cell_type": "code",
   "execution_count": 206,
   "metadata": {},
   "outputs": [
    {
     "data": {
      "text/html": [
       "<div>\n",
       "<style scoped>\n",
       "    .dataframe tbody tr th:only-of-type {\n",
       "        vertical-align: middle;\n",
       "    }\n",
       "\n",
       "    .dataframe tbody tr th {\n",
       "        vertical-align: top;\n",
       "    }\n",
       "\n",
       "    .dataframe thead th {\n",
       "        text-align: right;\n",
       "    }\n",
       "</style>\n",
       "<table border=\"1\" class=\"dataframe\">\n",
       "  <thead>\n",
       "    <tr style=\"text-align: right;\">\n",
       "      <th></th>\n",
       "      <th>Name</th>\n",
       "      <th>IS</th>\n",
       "      <th>CN</th>\n",
       "      <th>IBD</th>\n",
       "      <th>SA</th>\n",
       "      <th>SPM</th>\n",
       "      <th>DP</th>\n",
       "    </tr>\n",
       "  </thead>\n",
       "  <tbody>\n",
       "    <tr>\n",
       "      <th>0</th>\n",
       "      <td>Ravi</td>\n",
       "      <td>45</td>\n",
       "      <td>34</td>\n",
       "      <td>100</td>\n",
       "      <td>90</td>\n",
       "      <td>95</td>\n",
       "      <td>89</td>\n",
       "    </tr>\n",
       "    <tr>\n",
       "      <th>1</th>\n",
       "      <td>Raki</td>\n",
       "      <td>56</td>\n",
       "      <td>45</td>\n",
       "      <td>100</td>\n",
       "      <td>90</td>\n",
       "      <td>95</td>\n",
       "      <td>89</td>\n",
       "    </tr>\n",
       "    <tr>\n",
       "      <th>2</th>\n",
       "      <td>Ramesh</td>\n",
       "      <td>78</td>\n",
       "      <td>67</td>\n",
       "      <td>100</td>\n",
       "      <td>90</td>\n",
       "      <td>95</td>\n",
       "      <td>89</td>\n",
       "    </tr>\n",
       "    <tr>\n",
       "      <th>3</th>\n",
       "      <td>Ravi2</td>\n",
       "      <td>90</td>\n",
       "      <td>89</td>\n",
       "      <td>100</td>\n",
       "      <td>90</td>\n",
       "      <td>95</td>\n",
       "      <td>89</td>\n",
       "    </tr>\n",
       "    <tr>\n",
       "      <th>4</th>\n",
       "      <td>Radha</td>\n",
       "      <td>34</td>\n",
       "      <td>90</td>\n",
       "      <td>100</td>\n",
       "      <td>90</td>\n",
       "      <td>95</td>\n",
       "      <td>89</td>\n",
       "    </tr>\n",
       "  </tbody>\n",
       "</table>\n",
       "</div>"
      ],
      "text/plain": [
       "     Name  IS  CN  IBD  SA  SPM  DP\n",
       "0    Ravi  45  34  100  90   95  89\n",
       "1    Raki  56  45  100  90   95  89\n",
       "2  Ramesh  78  67  100  90   95  89\n",
       "3   Ravi2  90  89  100  90   95  89\n",
       "4   Radha  34  90  100  90   95  89"
      ]
     },
     "execution_count": 206,
     "metadata": {},
     "output_type": "execute_result"
    }
   ],
   "source": [
    "xl=pd.read_excel('DATA.xlsx')\n",
    "xl"
   ]
  },
  {
   "cell_type": "code",
   "execution_count": null,
   "metadata": {},
   "outputs": [],
   "source": []
  }
 ],
 "metadata": {
  "kernelspec": {
   "display_name": "Python 3",
   "language": "python",
   "name": "python3"
  },
  "language_info": {
   "codemirror_mode": {
    "name": "ipython",
    "version": 3
   },
   "file_extension": ".py",
   "mimetype": "text/x-python",
   "name": "python",
   "nbconvert_exporter": "python",
   "pygments_lexer": "ipython3",
   "version": "3.8.5"
  }
 },
 "nbformat": 4,
 "nbformat_minor": 4
}
